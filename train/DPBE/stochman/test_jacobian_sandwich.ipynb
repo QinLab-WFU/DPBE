{
 "cells": [
  {
   "cell_type": "code",
   "execution_count": 137,
   "metadata": {},
   "outputs": [],
   "source": [
    "import torch\n",
    "from stochman import nnj"
   ]
  },
  {
   "cell_type": "code",
   "execution_count": 138,
   "metadata": {},
   "outputs": [],
   "source": [
    "_batch_size = 1\n",
    "_input_size = 4\n",
    "_hidden_size = 3\n",
    "_output_size = 2\n",
    "\n",
    "input = torch.randn(_batch_size, _input_size)\n",
    "input2 = torch.randn(_batch_size, _input_size)"
   ]
  },
  {
   "cell_type": "code",
   "execution_count": 139,
   "metadata": {},
   "outputs": [],
   "source": [
    "model = nnj.Linear(_input_size, _output_size)\n",
    "\n",
    "### test single input ###\n",
    "output = model(input)\n",
    "\n",
    "tmp = torch.ones(_batch_size, _output_size)\n",
    "GGN = model._jacobian_sandwich(input, output, tmp, wrt = 'input', diag_inp = True, diag_out = True)\n",
    "GGN = model._jacobian_sandwich(input, output, tmp, wrt = 'input', diag_inp = True, diag_out = False)\n",
    "GGN = model._jacobian_sandwich(input, output, tmp, wrt = 'weight', diag_inp = True, diag_out = True)\n",
    "GGN = model._jacobian_sandwich(input, output, tmp, wrt = 'weight', diag_inp = True, diag_out = False)\n",
    "\n",
    "tmp = torch.ones(_batch_size, _output_size, _output_size)\n",
    "GGN = model._jacobian_sandwich(input, output, tmp, wrt = 'input', diag_inp = False, diag_out = True)\n",
    "GGN = model._jacobian_sandwich(input, output, tmp, wrt = 'input', diag_inp = False, diag_out = False)\n",
    "GGN = model._jacobian_sandwich(input, output, tmp, wrt = 'weight', diag_inp = False, diag_out = True)\n",
    "GGN = model._jacobian_sandwich(input, output, tmp, wrt = 'weight', diag_inp = False, diag_out = False)\n",
    "\n",
    "\n",
    "### test double input ###\n",
    "output = model(input)\n",
    "output2 = model(input2)\n",
    "\n",
    "tmps = [torch.ones(_batch_size, _output_size) for _ in range(3)]\n",
    "GGN = model._jacobian_sandwich_multipoint(input, input2, output, output2, tmps, wrt = 'input', diag_inp = True, diag_out = True)\n",
    "GGN = model._jacobian_sandwich_multipoint(input, input2, output, output2, tmps, wrt = 'input', diag_inp = True, diag_out = False)\n",
    "GGN = model._jacobian_sandwich_multipoint(input, input2, output, output2, tmps, wrt = 'weight', diag_inp = True, diag_out = True)\n",
    "#GGN = model._jacobian_sandwich_multipoint(input, input2, output, output2, tmps, wrt = 'weight', diag_inp = True, diag_out = False)\n",
    "\n",
    "tmp = torch.ones(_batch_size, _output_size, _output_size)\n",
    "GGN = model._jacobian_sandwich_multipoint(input, input2, output, output2, tmps, wrt = 'input', diag_inp = True, diag_out = True)\n",
    "GGN = model._jacobian_sandwich_multipoint(input, input2, output, output2, tmps, wrt = 'input', diag_inp = True, diag_out = False)\n",
    "GGN = model._jacobian_sandwich_multipoint(input, input2, output, output2, tmps, wrt = 'weight', diag_inp = True, diag_out = True)\n",
    "#GGN = model._jacobian_sandwich_multipoint(input, input2, output, output2, tmps, wrt = 'weight', diag_inp = True, diag_out = False)"
   ]
  },
  {
   "cell_type": "code",
   "execution_count": 140,
   "metadata": {},
   "outputs": [],
   "source": [
    "model = nnj.Tanh()\n",
    "\n",
    "### test single input ###\n",
    "output = model(input)\n",
    "\n",
    "tmp = torch.ones(_batch_size, _input_size)\n",
    "GGN = model._jacobian_sandwich(input, output, tmp, wrt = 'input', diag_inp = True, diag_out = True)\n",
    "#GGN = model._jacobian_sandwich(input, output, tmp, wrt = 'input', diag_inp = True, diag_out = False)\n",
    "GGN = model._jacobian_sandwich(input, output, tmp, wrt = 'weight', diag_inp = True, diag_out = True)\n",
    "GGN = model._jacobian_sandwich(input, output, tmp, wrt = 'weight', diag_inp = True, diag_out = False)\n",
    "\n",
    "tmp = torch.ones(_batch_size, _input_size, _input_size)\n",
    "GGN = model._jacobian_sandwich(input, output, tmp, wrt = 'input', diag_inp = False, diag_out = True)\n",
    "GGN = model._jacobian_sandwich(input, output, tmp, wrt = 'input', diag_inp = False, diag_out = False)\n",
    "GGN = model._jacobian_sandwich(input, output, tmp, wrt = 'weight', diag_inp = False, diag_out = True)\n",
    "GGN = model._jacobian_sandwich(input, output, tmp, wrt = 'weight', diag_inp = False, diag_out = False)\n",
    "\n",
    "\n",
    "### test double input ###\n",
    "output = model(input)\n",
    "output2 = model(input2)\n",
    "\n",
    "tmps = [torch.ones(_batch_size, _input_size) for _ in range(3)]\n",
    "GGN = model._jacobian_sandwich_multipoint(input, input2, output, output2, tmps, wrt = 'input', diag_inp = True, diag_out = True)\n",
    "#GGN = model._jacobian_sandwich_multipoint(input, input2, output, output2, tmps, wrt = 'input', diag_inp = True, diag_out = False)\n",
    "GGN = model._jacobian_sandwich_multipoint(input, input2, output, output2, tmps, wrt = 'weight', diag_inp = True, diag_out = True)\n",
    "#GGN = model._jacobian_sandwich_multipoint(input, input2, output, output2, tmps, wrt = 'weight', diag_inp = True, diag_out = False)\n",
    "\n",
    "tmp = torch.ones(_batch_size, _input_size, _input_size)\n",
    "GGN = model._jacobian_sandwich_multipoint(input, input2, output, output2, tmps, wrt = 'input', diag_inp = True, diag_out = True)\n",
    "#GGN = model._jacobian_sandwich_multipoint(input, input2, output, output2, tmps, wrt = 'input', diag_inp = True, diag_out = False)\n",
    "GGN = model._jacobian_sandwich_multipoint(input, input2, output, output2, tmps, wrt = 'weight', diag_inp = True, diag_out = True)\n",
    "#GGN = model._jacobian_sandwich_multipoint(input, input2, output, output2, tmps, wrt = 'weight', diag_inp = True, diag_out = False)"
   ]
  },
  {
   "cell_type": "code",
   "execution_count": 141,
   "metadata": {},
   "outputs": [],
   "source": [
    "model = nnj.ReLU()\n",
    "\n",
    "### test single input ###\n",
    "output = model(input)\n",
    "\n",
    "tmp = torch.ones(_batch_size, _input_size)\n",
    "GGN = model._jacobian_sandwich(input, output, tmp, wrt = 'input', diag_inp = True, diag_out = True)\n",
    "#GGN = model._jacobian_sandwich(input, output, tmp, wrt = 'input', diag_inp = True, diag_out = False)\n",
    "GGN = model._jacobian_sandwich(input, output, tmp, wrt = 'weight', diag_inp = True, diag_out = True)\n",
    "GGN = model._jacobian_sandwich(input, output, tmp, wrt = 'weight', diag_inp = True, diag_out = False)\n",
    "\n",
    "tmp = torch.ones(_batch_size, _input_size, _input_size)\n",
    "GGN = model._jacobian_sandwich(input, output, tmp, wrt = 'input', diag_inp = False, diag_out = True)\n",
    "GGN = model._jacobian_sandwich(input, output, tmp, wrt = 'input', diag_inp = False, diag_out = False)\n",
    "GGN = model._jacobian_sandwich(input, output, tmp, wrt = 'weight', diag_inp = False, diag_out = True)\n",
    "GGN = model._jacobian_sandwich(input, output, tmp, wrt = 'weight', diag_inp = False, diag_out = False)\n",
    "\n",
    "\n",
    "### test double input ###\n",
    "output = model(input)\n",
    "output2 = model(input2)\n",
    "\n",
    "tmps = [torch.ones(_batch_size, _input_size) for _ in range(3)]\n",
    "GGN = model._jacobian_sandwich_multipoint(input, input2, output, output2, tmps, wrt = 'input', diag_inp = True, diag_out = True)\n",
    "#GGN = model._jacobian_sandwich_multipoint(input, input2, output, output2, tmps, wrt = 'input', diag_inp = True, diag_out = False)\n",
    "GGN = model._jacobian_sandwich_multipoint(input, input2, output, output2, tmps, wrt = 'weight', diag_inp = True, diag_out = True)\n",
    "#GGN = model._jacobian_sandwich_multipoint(input, input2, output, output2, tmps, wrt = 'weight', diag_inp = True, diag_out = False)\n",
    "\n",
    "tmp = torch.ones(_batch_size, _input_size, _input_size)\n",
    "GGN = model._jacobian_sandwich_multipoint(input, input2, output, output2, tmps, wrt = 'input', diag_inp = True, diag_out = True)\n",
    "#GGN = model._jacobian_sandwich_multipoint(input, input2, output, output2, tmps, wrt = 'input', diag_inp = True, diag_out = False)\n",
    "GGN = model._jacobian_sandwich_multipoint(input, input2, output, output2, tmps, wrt = 'weight', diag_inp = True, diag_out = True)\n",
    "#GGN = model._jacobian_sandwich_multipoint(input, input2, output, output2, tmps, wrt = 'weight', diag_inp = True, diag_out = False)"
   ]
  },
  {
   "cell_type": "code",
   "execution_count": 142,
   "metadata": {},
   "outputs": [],
   "source": [
    "model = nnj.L2Norm()\n",
    "\n",
    "### test single input ###\n",
    "output = model(input)\n",
    "\n",
    "tmp = torch.ones(_batch_size, _input_size)\n",
    "#GGN = model._jacobian_sandwich(input, output, tmp, wrt = 'input', diag_inp = True, diag_out = True)\n",
    "GGN = model._jacobian_sandwich(input, output, tmp, wrt = 'input', diag_inp = True, diag_out = False)\n",
    "GGN = model._jacobian_sandwich(input, output, tmp, wrt = 'weight', diag_inp = True, diag_out = True)\n",
    "GGN = model._jacobian_sandwich(input, output, tmp, wrt = 'weight', diag_inp = True, diag_out = False)\n",
    "\n",
    "tmp = torch.ones(_batch_size, _input_size, _input_size)\n",
    "#GGN = model._jacobian_sandwich(input, output, tmp, wrt = 'input', diag_inp = False, diag_out = True)\n",
    "GGN = model._jacobian_sandwich(input, output, tmp, wrt = 'input', diag_inp = False, diag_out = False)\n",
    "GGN = model._jacobian_sandwich(input, output, tmp, wrt = 'weight', diag_inp = False, diag_out = True)\n",
    "GGN = model._jacobian_sandwich(input, output, tmp, wrt = 'weight', diag_inp = False, diag_out = False)\n",
    "\n",
    "\n",
    "### test double input ###\n",
    "output = model(input)\n",
    "output2 = model(input2)\n",
    "\n",
    "tmps = [torch.ones(_batch_size, _input_size) for _ in range(3)]\n",
    "#GGN = model._jacobian_sandwich_multipoint(input, input2, output, output2, tmps, wrt = 'input', diag_inp = True, diag_out = True)\n",
    "GGN = model._jacobian_sandwich_multipoint(input, input2, output, output2, tmps, wrt = 'input', diag_inp = True, diag_out = False)\n",
    "GGN = model._jacobian_sandwich_multipoint(input, input2, output, output2, tmps, wrt = 'weight', diag_inp = True, diag_out = True)\n",
    "GGN = model._jacobian_sandwich_multipoint(input, input2, output, output2, tmps, wrt = 'weight', diag_inp = True, diag_out = False)\n",
    "\n",
    "tmp = torch.ones(_batch_size, _input_size, _input_size)\n",
    "#GGN = model._jacobian_sandwich_multipoint(input, input2, output, output2, tmps, wrt = 'input', diag_inp = True, diag_out = True)\n",
    "GGN = model._jacobian_sandwich_multipoint(input, input2, output, output2, tmps, wrt = 'input', diag_inp = True, diag_out = False)\n",
    "GGN = model._jacobian_sandwich_multipoint(input, input2, output, output2, tmps, wrt = 'weight', diag_inp = True, diag_out = True)\n",
    "GGN = model._jacobian_sandwich_multipoint(input, input2, output, output2, tmps, wrt = 'weight', diag_inp = True, diag_out = False)"
   ]
  },
  {
   "cell_type": "code",
   "execution_count": 143,
   "metadata": {},
   "outputs": [],
   "source": [
    "layers = [nnj.Linear(_input_size, _hidden_size),\n",
    "          nnj.Tanh(),\n",
    "          nnj.Linear(_hidden_size, _hidden_size),\n",
    "          nnj.ReLU(),\n",
    "          nnj.Linear(_hidden_size, _output_size),\n",
    "          nnj.L2Norm()\n",
    "          ]\n",
    "                        \n",
    "model = nnj.Sequential(layers,\n",
    "                  add_hooks = True\n",
    ")\n",
    "'''\n",
    "### test single input ###\n",
    "output = model(input)\n",
    "\n",
    "tmp = torch.ones(_batch_size, _output_size)\n",
    "GGN = model._jacobian_sandwich(input, tmp, wrt = 'input', diag_inp = True, method = 'diagonal exact')\n",
    "GGN = model._jacobian_sandwich(input, tmp, wrt = 'weight', diag_inp = True, method = 'diagonal exact')\n",
    "GGN = model._jacobian_sandwich(input, tmp, wrt = 'input', diag_inp = True, method = 'diagonal approx')\n",
    "GGN = model._jacobian_sandwich(input, tmp, wrt = 'weight', diag_inp = True, method = 'diagonal approx')\n",
    "\n",
    "tmp = torch.ones(_batch_size, _output_size, _output_size)\n",
    "GGN = model._jacobian_sandwich(input, tmp, wrt = 'input', diag_inp = False, method = 'diagonal exact')\n",
    "GGN = model._jacobian_sandwich(input, tmp, wrt = 'weight', diag_inp = False, method = 'diagonal exact')\n",
    "GGN = model._jacobian_sandwich(input, tmp, wrt = 'input', diag_inp = False, method = 'diagonal approx')\n",
    "GGN = model._jacobian_sandwich(input, tmp, wrt = 'weight', diag_inp = False, method = 'diagonal approx')\n",
    "'''\n",
    "\n",
    "### test double input ###\n",
    "output = model(input)\n",
    "output2 = model(input2)\n",
    "\n",
    "tmps = [torch.ones(_batch_size, _output_size) for _ in range(3)]\n",
    "GGN = model._jacobian_sandwich_multipoint(input, input2, tmps, wrt = 'input', diag_inp = True, method = 'diagonal exact')\n",
    "GGN = model._jacobian_sandwich_multipoint(input, input2, tmps, wrt = 'weight', diag_inp = True, method = 'diagonal exact')\n",
    "\n",
    "tmps = [torch.ones(_batch_size, _output_size, _output_size) for _ in range(3)]\n",
    "GGN = model._jacobian_sandwich_multipoint(input, input2, tmps, wrt = 'input', diag_inp = False, method = 'diagonal exact')\n",
    "GGN = model._jacobian_sandwich_multipoint(input, input2, tmps, wrt = 'weight', diag_inp = False, method = 'diagonal exact')"
   ]
  },
  {
   "cell_type": "markdown",
   "metadata": {},
   "source": [
    "# Check correctness"
   ]
  },
  {
   "cell_type": "markdown",
   "metadata": {},
   "source": [
    "Define the same Neural network on Jax"
   ]
  },
  {
   "cell_type": "code",
   "execution_count": 144,
   "metadata": {},
   "outputs": [],
   "source": [
    "stoch_model = nnj.Sequential([\n",
    "                              nnj.Tanh(),\n",
    "                              nnj.Linear(_input_size, _hidden_size),\n",
    "                              nnj.Tanh(),\n",
    "                              #nnj.ReLU(),\n",
    "                              nnj.L2Norm(),\n",
    "                              nnj.Linear(_hidden_size, _output_size),\n",
    "                              #nnj.L2Norm()\n",
    "                              ],\n",
    "                  add_hooks = True\n",
    ")\n",
    "\n",
    "first_linear_layer_index = 1\n",
    "second_linear_layer_index = 4"
   ]
  },
  {
   "cell_type": "code",
   "execution_count": 145,
   "metadata": {},
   "outputs": [],
   "source": [
    "from jax import numpy as jnp\n",
    "import numpy as np\n",
    "\n",
    "def Relu(x):\n",
    "    return jnp.maximum(x, jnp.zeros_like(x)) # max(0,x)\n",
    "\n",
    "def Tanh(x):\n",
    "    return jnp.tanh(x)\n",
    "\n",
    "def L2Norm(x):\n",
    "    x = x.T / (jnp.linalg.norm(x, ord=2, axis=1) + 1e-6)\n",
    "    return x.T\n",
    "\n",
    "def LinearLayer(w, b, x, print_weights=False):\n",
    "    w = w.reshape(len(b), -1)\n",
    "    out = jnp.dot(x, w.T) + b\n",
    "    if print_weights:\n",
    "        print('\\twi\\n\\t',w)\n",
    "        print('\\tbi\\n\\t',b)\n",
    "    return out\n",
    "\n",
    "def jax_model(weights, x, print_weights=False):\n",
    "    x = Tanh(x)\n",
    "    w1 = weights[ : _input_size*_hidden_size]\n",
    "    b1 = weights[_input_size*_hidden_size : _input_size*_hidden_size + _hidden_size]\n",
    "    x = LinearLayer(w1, b1, x, print_weights=print_weights)\n",
    "    x = Tanh(x)\n",
    "    #x = Relu(x)\n",
    "    x = L2Norm(x)\n",
    "    w2 = weights[_input_size*_hidden_size + _hidden_size : _input_size*_hidden_size + _hidden_size + _hidden_size*_output_size]\n",
    "    b2 = weights[_input_size*_hidden_size + _hidden_size + _hidden_size*_output_size : ]\n",
    "    x = LinearLayer(w2, b2, x, print_weights=print_weights)\n",
    "    #x = L2Norm(x)\n",
    "    return x\n",
    "\n",
    "_weights_size = _input_size*_hidden_size + _hidden_size + _hidden_size*_output_size + _output_size\n",
    "        "
   ]
  },
  {
   "cell_type": "code",
   "execution_count": 146,
   "metadata": {},
   "outputs": [
    {
     "name": "stdout",
     "output_type": "stream",
     "text": [
      "Input: tensor([[-0.5130,  0.0337,  0.1497,  1.8129]])\n",
      "Weights in stoch model:\n",
      "\tw1\n",
      "\t [[-0.3820095   0.23412985  0.3846798   0.13565433]\n",
      " [-0.15018326 -0.22877079  0.23007387  0.37211066]\n",
      " [ 0.02995759  0.02596051 -0.15592879 -0.25911897]]\n",
      "\tb1\n",
      "\t [ 0.12189823 -0.25463825 -0.46471483]\n",
      "\tw2\n",
      "\t [[-0.4693359   0.3852045   0.4148506 ]\n",
      " [ 0.28866425  0.38507387  0.31575844]]\n",
      "\tb2\n",
      "\t [ 0.09552045 -0.03102111]\n",
      "Output stoch: \n",
      " tensor([[-0.4056, -0.0225]], grad_fn=<AddmmBackward0>)\n",
      "Output jax: \n",
      " [[-0.40562892 -0.02246433]]\n",
      "5.9604645e-08\n",
      "\n",
      "\n",
      "Outputs of stock and jax models are the same!\n"
     ]
    }
   ],
   "source": [
    "stoch_input = torch.randn(_batch_size, _input_size)\n",
    "print('Input:',stoch_input)\n",
    "stoch_output = stoch_model.forward(stoch_input)\n",
    "\n",
    "# set weights and input to be equal\n",
    "print('Weights in stoch model:')\n",
    "print('\\tw1\\n\\t',stoch_model._modules_list[first_linear_layer_index].weight.detach().numpy())\n",
    "print('\\tb1\\n\\t',stoch_model._modules_list[first_linear_layer_index].bias.detach().numpy())\n",
    "print('\\tw2\\n\\t',stoch_model._modules_list[second_linear_layer_index].weight.detach().numpy())\n",
    "print('\\tb2\\n\\t',stoch_model._modules_list[second_linear_layer_index].bias.detach().numpy())\n",
    "\n",
    "\n",
    "weights = []\n",
    "for row in stoch_model._modules_list[first_linear_layer_index].weight.detach().numpy():\n",
    "    weights = np.concatenate((weights, row))\n",
    "weights= np.concatenate((weights, stoch_model._modules_list[first_linear_layer_index].bias.detach().numpy()))\n",
    "for row in stoch_model._modules_list[second_linear_layer_index].weight.detach().numpy():\n",
    "    weights = np.concatenate((weights, row))\n",
    "weights = np.concatenate((weights, stoch_model._modules_list[second_linear_layer_index].bias.detach().numpy()))\n",
    "weights = jnp.array(weights)\n",
    "#print(_weights_size, len(weights))\n",
    "\n",
    "\n",
    "jax_input = jnp.array(stoch_input.numpy())\n",
    "jax_output = jax_model(weights, jax_input, print_weights=False)\n",
    "\n",
    "\n",
    "\n",
    "print('Output stoch: \\n', stoch_output)\n",
    "print('Output jax: \\n', jax_output)\n",
    "#print('norms \\n',jnp.linalg.norm(jax_output, ord=2, axis=1))\n",
    "\n",
    "#print(np.array(jax_output) - stoch_output.detach().numpy())\n",
    "#print(np.array(jax_output) == stoch_output.detach().numpy())\n",
    "difference = np.array(jax_output) - stoch_output.detach().numpy()\n",
    "print(np.max(abs(difference)))\n",
    "assert (abs(difference) < 1e-6).all()\n",
    "print('\\n\\nOutputs of stock and jax models are the same!')"
   ]
  },
  {
   "cell_type": "markdown",
   "metadata": {},
   "source": [
    "# Check wrt the weights"
   ]
  },
  {
   "cell_type": "markdown",
   "metadata": {},
   "source": [
    "Check vector-jacobian product"
   ]
  },
  {
   "cell_type": "code",
   "execution_count": 147,
   "metadata": {},
   "outputs": [
    {
     "name": "stdout",
     "output_type": "stream",
     "text": [
      "tensor([[1., 0.]])\n",
      "jax\t [[ 8.5077271e-02 -6.0604098e-03 -2.6760582e-02 -1.7078477e-01\n",
      "  -2.8524080e-01  2.0318894e-02  8.9720897e-02  5.7259458e-01\n",
      "  -7.3390719e-03  5.2279275e-04  2.3084641e-03  1.4732510e-02\n",
      "  -1.8012941e-01  6.0392457e-01  1.5538611e-02  5.6971139e-01\n",
      "   2.3974240e-01 -7.8609794e-01  0.0000000e+00  0.0000000e+00\n",
      "   0.0000000e+00  1.0000000e+00  0.0000000e+00]]\n",
      "stoch\t [[ 8.5077435e-02 -6.0604224e-03 -2.6760638e-02 -1.7078510e-01\n",
      "  -2.8524074e-01  2.0318894e-02  8.9720897e-02  5.7259446e-01\n",
      "  -7.3392224e-03  5.2280357e-04  2.3085119e-03  1.4732812e-02\n",
      "  -1.8012977e-01  6.0392451e-01  1.5538931e-02  5.6971139e-01\n",
      "   2.3974240e-01 -7.8609800e-01  0.0000000e+00  0.0000000e+00\n",
      "   0.0000000e+00  1.0000000e+00  0.0000000e+00]]\n",
      "Max difference 3.5762787e-07 at index 12\n",
      "Max difference 5.9604645e-08 at index 3\n",
      "\n",
      "\n",
      "Vector-Jacobian products are the same for every base elements!\n"
     ]
    }
   ],
   "source": [
    "from jax import vjp\n",
    "\n",
    "jax_output_by_vjp, vjp_fun = vjp(lambda w: jax_model(w, jax_input), weights)\n",
    "# check if I'm actually understanding what jax.vjp is doing\n",
    "assert (jax_output == jax_output_by_vjp).all()\n",
    "\n",
    "\n",
    "e_0 = jnp.zeros((_batch_size, _output_size))\n",
    "e_0 = e_0.at[0,0].set(1)\n",
    "v_0_jax = vjp_fun(e_0)\n",
    "\n",
    "e_0 = torch.zeros((_batch_size, _output_size))\n",
    "e_0[0,0] = 1\n",
    "v_0_stoch = stoch_model._vjp(e_0, stoch_input, wrt='weight')\n",
    "\n",
    "print(e_0)\n",
    "print('jax\\t',np.array(v_0_jax))\n",
    "print('stoch\\t',v_0_stoch.detach().numpy())\n",
    "\n",
    "for i in range(_output_size):\n",
    "    e_i = jnp.zeros((_batch_size, _output_size))\n",
    "    e_i = e_i.at[0,i].set(1)\n",
    "    v_i_jax = vjp_fun(e_i)\n",
    "\n",
    "    e_i = torch.zeros((_batch_size, _output_size))\n",
    "    e_i[0,i] = 1\n",
    "    v_i_stoch = stoch_model._vjp(e_i, stoch_input, wrt='weight')\n",
    "\n",
    "    difference = np.array(v_i_jax) - v_i_stoch.detach().numpy()\n",
    "    #print(np.array(v_i_jax) - v_i_stoch.detach().numpy())\n",
    "    print('Max difference',np.max(abs(difference)), 'at index', np.argmax(abs(difference)))\n",
    "    assert (abs(difference) < 1e-5).all()\n",
    "\n",
    "print('\\n\\nVector-Jacobian products are the same for every base elements!')"
   ]
  },
  {
   "cell_type": "markdown",
   "metadata": {},
   "source": [
    "Check sandwich product"
   ]
  },
  {
   "cell_type": "code",
   "execution_count": 148,
   "metadata": {},
   "outputs": [
    {
     "name": "stdout",
     "output_type": "stream",
     "text": [
      "1 (23,)\n",
      "(2, 23)\n",
      "(23, 23)\n",
      "(23,)\n"
     ]
    }
   ],
   "source": [
    "# tmp is the identity matrix, for each batch element\n",
    "identity = []\n",
    "for i in range(_output_size):\n",
    "    e_i = jnp.zeros((_batch_size, _output_size))\n",
    "    for b in range(_batch_size):\n",
    "        e_i = e_i.at[b,i].set(1)\n",
    "    identity.append(e_i)\n",
    "\n",
    "rows_of_J_by_jax = []\n",
    "for e_i in identity:\n",
    "    v_i = vjp_fun(e_i)\n",
    "    rows_of_J_by_jax.append(v_i[0])\n",
    "print(len(v_i), v_i[0].shape)\n",
    "\n",
    "rows_of_J_by_jax = np.array(rows_of_J_by_jax)\n",
    "print(rows_of_J_by_jax.shape)\n",
    "\n",
    "GGN_by_jax = jnp.einsum(\"ji,jk->ik\", rows_of_J_by_jax, rows_of_J_by_jax)\n",
    "print(GGN_by_jax.shape)\n",
    "\n",
    "GGN_diagonal_by_jax = []\n",
    "for w in range(_weights_size):\n",
    "    GGN_diagonal_by_jax.append(GGN_by_jax[w][w])\n",
    "GGN_diagonal_by_jax = jnp.array(GGN_diagonal_by_jax)\n",
    "print(GGN_diagonal_by_jax.shape)\n"
   ]
  },
  {
   "cell_type": "markdown",
   "metadata": {},
   "source": [
    "Do the same with stoch"
   ]
  },
  {
   "cell_type": "code",
   "execution_count": 149,
   "metadata": {},
   "outputs": [
    {
     "name": "stdout",
     "output_type": "stream",
     "text": [
      "1 torch.Size([23])\n",
      "(2, 23)\n",
      "(23, 23)\n",
      "(23,)\n"
     ]
    }
   ],
   "source": [
    "# tmp is the identity matrix, for each batch element\n",
    "identity = []\n",
    "for i in range(_output_size):\n",
    "    e_i = torch.zeros((_batch_size, _output_size))\n",
    "    for b in range(_batch_size):\n",
    "        e_i[b,i] = 1\n",
    "    identity.append(e_i)\n",
    "\n",
    "rows_of_J_by_stoch = []\n",
    "for e_i in identity:\n",
    "    v_i_stoch = stoch_model._vjp(e_i, stoch_input, wrt='weight')\n",
    "    rows_of_J_by_stoch.append(v_i_stoch.detach().numpy()[0])\n",
    "print(len(v_i_stoch), v_i_stoch[0].shape)\n",
    "\n",
    "rows_of_J_by_stoch = np.array(rows_of_J_by_stoch)\n",
    "print(rows_of_J_by_stoch.shape)\n",
    "\n",
    "GGN_by_stoch_slow = np.einsum(\"ji,jk->ik\", rows_of_J_by_stoch, rows_of_J_by_stoch)\n",
    "print(GGN_by_stoch_slow.shape)\n",
    "\n",
    "GGN_diagonal_by_stoch_slow = []\n",
    "for w in range(_weights_size):\n",
    "    GGN_diagonal_by_stoch_slow.append(GGN_by_stoch_slow[w][w])\n",
    "GGN_diagonal_by_stoch_slow = jnp.array(GGN_diagonal_by_stoch_slow)\n",
    "print(GGN_diagonal_by_stoch_slow.shape)\n"
   ]
  },
  {
   "cell_type": "code",
   "execution_count": 150,
   "metadata": {},
   "outputs": [
    {
     "name": "stdout",
     "output_type": "stream",
     "text": [
      "3.5762787e-07 at 12\n",
      "Jacobians computed by row are the same\n"
     ]
    }
   ],
   "source": [
    "difference = rows_of_J_by_jax - rows_of_J_by_stoch\n",
    "print(np.max(abs(difference)), 'at', np.argmax(abs(difference)))\n",
    "\n",
    "assert np.max(abs(difference)) < 1e-5\n",
    "print('Jacobians computed by row are the same')"
   ]
  },
  {
   "cell_type": "code",
   "execution_count": 151,
   "metadata": {},
   "outputs": [
    {
     "name": "stdout",
     "output_type": "stream",
     "text": [
      "3.5762787e-07 at 297\n",
      "Generalized Gauss Netowns (computed by row) are the same\n"
     ]
    }
   ],
   "source": [
    "difference = GGN_by_jax - GGN_by_stoch_slow\n",
    "print(np.max(abs(difference)), 'at', np.argmax(abs(difference)))\n",
    "\n",
    "assert np.max(abs(difference)) < 1e-5\n",
    "print('Generalized Gauss Netowns (computed by row) are the same')"
   ]
  },
  {
   "cell_type": "code",
   "execution_count": 152,
   "metadata": {},
   "outputs": [],
   "source": [
    "identity_diagonal = torch.ones(_batch_size, _output_size)\n",
    "GGN_diagonal_by_stoch = stoch_model._jacobian_sandwich(stoch_input,\n",
    "                                                       identity_diagonal, \n",
    "                                                       wrt = 'weight', \n",
    "                                                       diag_inp = True, \n",
    "                                                       method = 'diagonal exact')\n",
    "\n",
    "identity = torch.zeros(_batch_size, _output_size, _output_size)\n",
    "for i in range(_output_size):\n",
    "    for b in range(_batch_size):\n",
    "        identity[b][i][i] = 1\n",
    "GGN_diagonal_by_stoch2 = stoch_model._jacobian_sandwich(stoch_input,\n",
    "                                                       identity, \n",
    "                                                       wrt = 'weight', \n",
    "                                                       diag_inp = False, \n",
    "                                                       method = 'diagonal exact')"
   ]
  },
  {
   "cell_type": "code",
   "execution_count": 153,
   "metadata": {},
   "outputs": [
    {
     "name": "stdout",
     "output_type": "stream",
     "text": [
      "stock\n",
      " [2.44889967e-02 1.24264770e-04 2.42289808e-03 9.86829698e-02\n",
      " 1.28101870e-01 6.50028640e-04 1.26741715e-02 5.16210318e-01\n",
      " 1.28803430e-02 6.53588577e-05 1.27435836e-03 5.19037396e-02\n",
      " 1.09777465e-01 5.74245572e-01 5.77390492e-02 3.24571073e-01\n",
      " 5.74764162e-02 6.17950082e-01 3.24571073e-01 5.74764162e-02\n",
      " 6.17950082e-01 1.00000000e+00 1.00000000e+00]\n",
      "stoch slow\n",
      " [2.44889986e-02 1.24264770e-04 2.42289784e-03 9.86829698e-02\n",
      " 1.28101856e-01 6.50028582e-04 1.26741715e-02 5.16210258e-01\n",
      " 1.28803430e-02 6.53588504e-05 1.27435836e-03 5.19037321e-02\n",
      " 1.09777465e-01 5.74245572e-01 5.77390492e-02 3.24571073e-01\n",
      " 5.74764162e-02 6.17950082e-01 3.24571073e-01 5.74764162e-02\n",
      " 6.17950082e-01 1.00000000e+00 1.00000000e+00]\n",
      "jax\n",
      " [2.4488963e-02 1.2426457e-04 2.4228939e-03 9.8682828e-02 1.2810189e-01\n",
      " 6.5002847e-04 1.2674169e-02 5.1621038e-01 1.2880343e-02 6.5358829e-05\n",
      " 1.2743579e-03 5.1903732e-02 1.0977730e-01 5.7424557e-01 5.7739038e-02\n",
      " 3.2457107e-01 5.7476416e-02 6.1794996e-01 3.2457107e-01 5.7476416e-02\n",
      " 6.1794996e-01 1.0000000e+00 1.0000000e+00]\n",
      "diff\n",
      " [ 3.3527613e-08  2.0372681e-10  4.1909516e-09  1.4156103e-07\n",
      " -1.4901161e-08  1.7462298e-10  2.7939677e-09 -5.9604645e-08\n",
      "  0.0000000e+00  2.9103830e-11  4.6566129e-10  7.4505806e-09\n",
      "  1.6391277e-07  0.0000000e+00  1.1175871e-08  0.0000000e+00\n",
      "  0.0000000e+00  1.1920929e-07  0.0000000e+00  0.0000000e+00\n",
      "  1.1920929e-07  0.0000000e+00  0.0000000e+00]\n"
     ]
    }
   ],
   "source": [
    "print('stock\\n',np.array(GGN_diagonal_by_stoch[0].detach()))\n",
    "print('stoch slow\\n',GGN_diagonal_by_stoch_slow)\n",
    "print('jax\\n',np.array(GGN_diagonal_by_jax))\n",
    "print('diff\\n',np.array(GGN_diagonal_by_stoch[0].detach()) - np.array(GGN_diagonal_by_jax))"
   ]
  },
  {
   "cell_type": "code",
   "execution_count": 154,
   "metadata": {},
   "outputs": [
    {
     "name": "stdout",
     "output_type": "stream",
     "text": [
      "1.6391277e-07\n",
      "Generalized Gauss Newtown are the same\n"
     ]
    }
   ],
   "source": [
    "difference = np.array(GGN_diagonal_by_stoch[0].detach()) - np.array(GGN_diagonal_by_jax)\n",
    "print(np.max(abs(difference)))\n",
    "\n",
    "assert np.max(abs(difference)) < 1e-5\n",
    "print('Generalized Gauss Newtown are the same')"
   ]
  },
  {
   "cell_type": "markdown",
   "metadata": {},
   "source": [
    "# Check wrt the input"
   ]
  },
  {
   "cell_type": "markdown",
   "metadata": {},
   "source": [
    "Check vector-jacobian product"
   ]
  },
  {
   "cell_type": "code",
   "execution_count": 155,
   "metadata": {},
   "outputs": [
    {
     "name": "stdout",
     "output_type": "stream",
     "text": [
      "tensor([[1., 0.]])\n",
      "jax\t [[[-0.01664377 -0.17972691  0.06574833  0.01983521]]]\n",
      "stoch\t [[-0.01664365 -0.17972697  0.06574812  0.01983522]]\n"
     ]
    }
   ],
   "source": [
    "jax_output_by_vjp, vjp_fun = vjp(lambda inp: jax_model(weights, inp), jax_input)\n",
    "# check if the outputs are the same\n",
    "assert (jax_output == jax_output_by_vjp).all()\n",
    "\n",
    "\n",
    "e_0 = jnp.zeros((_batch_size, _output_size))\n",
    "e_0 = e_0.at[0,0].set(1)\n",
    "v_0_jax = vjp_fun(e_0)\n",
    "\n",
    "e_0 = torch.zeros((_batch_size, _output_size))\n",
    "e_0[0,0] = 1\n",
    "v_0_stoch = stoch_model._vjp(e_0, stoch_input, wrt='input')\n",
    "\n",
    "print(e_0)\n",
    "print('jax\\t',np.array(v_0_jax))\n",
    "print('stoch\\t',v_0_stoch.detach().numpy())\n",
    "\n",
    "for i in range(_output_size):\n",
    "    e_i = jnp.zeros((_batch_size, _output_size))\n",
    "    e_i = e_i.at[0,i].set(1)\n",
    "    v_i_jax = vjp_fun(e_i)\n",
    "\n",
    "    e_i = torch.zeros((_batch_size, _output_size))\n",
    "    e_i[0,i] = 1\n",
    "    v_i_stoch = stoch_model._vjp(e_i, stoch_input, wrt='input')\n",
    "\n",
    "    #print(np.array(v_i_jax) - v_i_stoch.detach().numpy())\n",
    "    assert (np.array(v_i_jax) - v_i_stoch.detach().numpy() < 1e-5).all()"
   ]
  },
  {
   "cell_type": "markdown",
   "metadata": {},
   "source": [
    "Check sandwich product"
   ]
  },
  {
   "cell_type": "code",
   "execution_count": 156,
   "metadata": {},
   "outputs": [
    {
     "name": "stdout",
     "output_type": "stream",
     "text": [
      "1 (1, 4)\n",
      "(2, 4)\n",
      "(4, 4)\n"
     ]
    }
   ],
   "source": [
    "# tmp is the identity matrix, for each batch element\n",
    "identity = []\n",
    "for i in range(_output_size):\n",
    "    e_i = jnp.zeros((_batch_size, _output_size))\n",
    "    for b in range(_batch_size):\n",
    "        e_i = e_i.at[b,i].set(1)\n",
    "    identity.append(e_i)\n",
    "\n",
    "rows_of_J_by_jax = []\n",
    "for row in identity:\n",
    "    v_i = vjp_fun(row)\n",
    "    rows_of_J_by_jax.append(v_i[0][0])\n",
    "print(len(v_i), v_i[0].shape)\n",
    "\n",
    "rows_of_J_by_jax = np.array(rows_of_J_by_jax)\n",
    "print(rows_of_J_by_jax.shape)\n",
    "\n",
    "GGN_by_jax = np.einsum(\"ji,jk->ik\", rows_of_J_by_jax, rows_of_J_by_jax)\n",
    "print(GGN_by_jax.shape)"
   ]
  },
  {
   "cell_type": "markdown",
   "metadata": {},
   "source": [
    "Do the same with stoch"
   ]
  },
  {
   "cell_type": "code",
   "execution_count": 157,
   "metadata": {},
   "outputs": [
    {
     "name": "stdout",
     "output_type": "stream",
     "text": [
      "1 torch.Size([4])\n",
      "(2, 4)\n",
      "(4, 4)\n"
     ]
    }
   ],
   "source": [
    "# tmp is the identity matrix, for each batch element\n",
    "identity = []\n",
    "for i in range(_output_size):\n",
    "    e_i = torch.zeros((_batch_size, _output_size))\n",
    "    for b in range(_batch_size):\n",
    "        e_i[b,i] = 1\n",
    "    identity.append(e_i)\n",
    "\n",
    "rows_of_J_by_stoch = []\n",
    "for e_i in identity:\n",
    "    v_i_stoch = stoch_model._vjp(e_i, stoch_input, wrt='input')\n",
    "    rows_of_J_by_stoch.append(v_i_stoch.detach().numpy()[0])\n",
    "print(len(v_i_stoch), v_i_stoch[0].shape)\n",
    "\n",
    "rows_of_J_by_stoch = np.array(rows_of_J_by_stoch)\n",
    "print(rows_of_J_by_stoch.shape)\n",
    "\n",
    "GGN_by_stoch_slow = np.einsum(\"ji,jk->ik\", rows_of_J_by_stoch, rows_of_J_by_stoch)\n",
    "print(GGN_by_stoch_slow.shape)"
   ]
  },
  {
   "cell_type": "code",
   "execution_count": 158,
   "metadata": {},
   "outputs": [
    {
     "name": "stdout",
     "output_type": "stream",
     "text": [
      "2.0861626e-07 at 2\n",
      "Jacobians computed by row are the same\n"
     ]
    }
   ],
   "source": [
    "difference = rows_of_J_by_jax - rows_of_J_by_stoch\n",
    "print(np.max(abs(difference)), 'at', np.argmax(abs(difference)))\n",
    "\n",
    "assert np.max(abs(difference)) < 1e-5\n",
    "print('Jacobians computed by row are the same')"
   ]
  },
  {
   "cell_type": "code",
   "execution_count": 159,
   "metadata": {},
   "outputs": [
    {
     "name": "stdout",
     "output_type": "stream",
     "text": [
      "3.1664968e-08 at 6\n",
      "Generalized Gauss Netowns (computed by row) are the same\n"
     ]
    }
   ],
   "source": [
    "difference = GGN_by_jax - GGN_by_stoch_slow\n",
    "print(np.max(abs(difference)), 'at', np.argmax(abs(difference)))\n",
    "\n",
    "assert np.max(abs(difference)) < 1e-5\n",
    "print('Generalized Gauss Netowns (computed by row) are the same')"
   ]
  },
  {
   "cell_type": "code",
   "execution_count": 160,
   "metadata": {},
   "outputs": [],
   "source": [
    "identity_diagonal = torch.ones(_batch_size, _output_size)\n",
    "GGN_by_stoch = stoch_model._jacobian_sandwich(stoch_input,\n",
    "                                            identity_diagonal, \n",
    "                                            wrt = 'input', \n",
    "                                            diag_inp = True, \n",
    "                                            method = 'diagonal exact')"
   ]
  },
  {
   "cell_type": "code",
   "execution_count": 161,
   "metadata": {},
   "outputs": [
    {
     "name": "stdout",
     "output_type": "stream",
     "text": [
      "stoch\n",
      " [[ 0.01727092  0.00733828 -0.0233907  -0.00225256]\n",
      " [ 0.00733828  0.03341372 -0.01752003 -0.00405667]\n",
      " [-0.0233907  -0.01752004  0.03357622  0.0038264 ]\n",
      " [-0.00225256 -0.00405667  0.0038264   0.00061091]]\n",
      "stoch slow \n",
      " [[ 0.01727092  0.00733828 -0.0233907  -0.00225256]\n",
      " [ 0.00733828  0.03341372 -0.01752004 -0.00405667]\n",
      " [-0.0233907  -0.01752004  0.03357621  0.0038264 ]\n",
      " [-0.00225256 -0.00405667  0.0038264   0.00061091]]\n",
      "jax\n",
      " [[ 0.01727092  0.0073383  -0.0233907  -0.00225256]\n",
      " [ 0.0073383   0.0334137  -0.01752007 -0.00405667]\n",
      " [-0.0233907  -0.01752007  0.03357624  0.0038264 ]\n",
      " [-0.00225256 -0.00405667  0.0038264   0.00061091]]\n",
      "diff\n",
      " [[ 3.7252903e-09 -1.8626451e-08  5.5879354e-09 -4.6566129e-10]\n",
      " [-2.0489097e-08  2.2351742e-08  3.3527613e-08 -2.7939677e-09]\n",
      " [ 5.5879354e-09  2.9802322e-08 -2.2351742e-08  2.3283064e-10]\n",
      " [-4.6566129e-10 -3.7252903e-09 -2.3283064e-10  8.7311491e-10]]\n",
      "diff\n",
      " [[ True  True  True  True]\n",
      " [ True  True  True  True]\n",
      " [ True  True  True  True]\n",
      " [ True  True  True  True]]\n"
     ]
    }
   ],
   "source": [
    "print('stoch\\n',np.array(GGN_by_stoch[0].detach()))\n",
    "print('stoch slow \\n',np.array(GGN_by_stoch_slow))\n",
    "print('jax\\n',np.array(GGN_by_jax))\n",
    "print('diff\\n',np.array(GGN_by_stoch[0].detach()) - np.array(GGN_by_jax))\n",
    "\n",
    "#print('diff\\n',np.array(GGN_by_stoch[0].detach()) == np.array(GGN_by_jax))\n",
    "print('diff\\n',abs(np.array(GGN_by_stoch[0].detach()) - np.array(GGN_by_jax)) < 1e-6)\n",
    "\n",
    "\n",
    "#print('ratio\\n',np.array(GGN_by_stoch[0].detach()) / np.array(GGN_by_jax))"
   ]
  },
  {
   "cell_type": "code",
   "execution_count": null,
   "metadata": {},
   "outputs": [],
   "source": []
  }
 ],
 "metadata": {
  "kernelspec": {
   "display_name": "Python 3.8.12 ('laplace')",
   "language": "python",
   "name": "python3"
  },
  "language_info": {
   "codemirror_mode": {
    "name": "ipython",
    "version": 3
   },
   "file_extension": ".py",
   "mimetype": "text/x-python",
   "name": "python",
   "nbconvert_exporter": "python",
   "pygments_lexer": "ipython3",
   "version": "3.8.12"
  },
  "orig_nbformat": 4,
  "vscode": {
   "interpreter": {
    "hash": "477c387996a084153fd8ef9c4e5432322bdf7a5fc9ad0e2a4c514862f58a6dd5"
   }
  }
 },
 "nbformat": 4,
 "nbformat_minor": 2
}
