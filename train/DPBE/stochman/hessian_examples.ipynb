{
 "cells": [
  {
   "cell_type": "code",
   "execution_count": 1,
   "metadata": {},
   "outputs": [
    {
     "ename": "ModuleNotFoundError",
     "evalue": "No module named 'stochman.laplace'",
     "output_type": "error",
     "traceback": [
      "\u001b[0;31m---------------------------------------------------------------------------\u001b[0m",
      "\u001b[0;31mModuleNotFoundError\u001b[0m                       Traceback (most recent call last)",
      "\u001b[0;32m/tmp/ipykernel_231393/1913678443.py\u001b[0m in \u001b[0;36m<module>\u001b[0;34m\u001b[0m\n\u001b[1;32m      1\u001b[0m \u001b[0;32mimport\u001b[0m \u001b[0mtorch\u001b[0m\u001b[0;34m\u001b[0m\u001b[0;34m\u001b[0m\u001b[0m\n\u001b[1;32m      2\u001b[0m \u001b[0;32mfrom\u001b[0m \u001b[0mstochman\u001b[0m \u001b[0;32mimport\u001b[0m \u001b[0mnnj\u001b[0m\u001b[0;34m\u001b[0m\u001b[0;34m\u001b[0m\u001b[0m\n\u001b[0;32m----> 3\u001b[0;31m \u001b[0;32mfrom\u001b[0m \u001b[0mstochman\u001b[0m\u001b[0;34m.\u001b[0m\u001b[0mlaplace\u001b[0m \u001b[0;32mimport\u001b[0m \u001b[0mHessianCalculator\u001b[0m\u001b[0;34m\u001b[0m\u001b[0;34m\u001b[0m\u001b[0m\n\u001b[0m",
      "\u001b[0;31mModuleNotFoundError\u001b[0m: No module named 'stochman.laplace'"
     ]
    }
   ],
   "source": [
    "import torch\n",
    "from stochman import nnj\n",
    "from stochman.hessian import HessianCalculator"
   ]
  },
  {
   "cell_type": "markdown",
   "metadata": {},
   "source": [
    "# Model"
   ]
  },
  {
   "cell_type": "code",
   "execution_count": null,
   "metadata": {},
   "outputs": [],
   "source": [
    "# model hyperparameter\n",
    "_input_size = 5\n",
    "_hidden_size = 36\n",
    "_output_size = 2\n",
    "\n",
    "# declare the model\n",
    "model = nnj.Sequential([\n",
    "                        nnj.Tanh(),\n",
    "                        nnj.Linear(_input_size, _hidden_size),\n",
    "                        nnj.Tanh(),\n",
    "                        nnj.Linear(_hidden_size, _hidden_size),\n",
    "                        nnj.Reshape(1,6,6),\n",
    "                        nnj.Conv2d(1, 1, 3, stride=1, padding=1),\n",
    "                        nnj.MaxPool2d(2),\n",
    "                        nnj.Upsample(scale_factor=2),\n",
    "                        nnj.Flatten(),\n",
    "                        nnj.Tanh(),\n",
    "                        nnj.Linear(_hidden_size, _hidden_size),\n",
    "                        nnj.Tanh(),\n",
    "                        nnj.L2Norm(),\n",
    "                        nnj.Linear(_hidden_size, _output_size),\n",
    "                        nnj.L2Norm()\n",
    "                        ],\n",
    "            add_hooks = True\n",
    ")"
   ]
  },
  {
   "cell_type": "markdown",
   "metadata": {},
   "source": [
    "# MSE loss"
   ]
  },
  {
   "cell_type": "code",
   "execution_count": null,
   "metadata": {},
   "outputs": [],
   "source": [
    "# dataset (random)\n",
    "_batch_size = 13\n",
    "dataset = torch.randn(_batch_size, _input_size)"
   ]
  },
  {
   "cell_type": "markdown",
   "metadata": {},
   "source": [
    "### Exact Diagonal"
   ]
  },
  {
   "cell_type": "code",
   "execution_count": null,
   "metadata": {},
   "outputs": [
    {
     "name": "stdout",
     "output_type": "stream",
     "text": [
      "Diagonal exact Generalized Gauss Netwon, with respect to weight\n",
      " tensor([8.7947e-03, 1.0705e-02, 7.6393e-03,  ..., 2.4208e-02, 2.4775e+01,\n",
      "        1.8568e+00], grad_fn=<MeanBackward1>)\n",
      "Diagonal exact Generalized Gauss Netwon, with respect to input\n",
      " tensor([0.0225, 0.0420, 0.0104, 0.0273, 0.0212], grad_fn=<MeanBackward1>)\n"
     ]
    }
   ],
   "source": [
    "# wrt to weight\n",
    "mse_exact_diagonal_weight = HessianCalculator(wrt = \"weight\",\n",
    "                                              loss_func = \"mse\",\n",
    "                                              shape = \"diagonal\",\n",
    "                                              speed = \"half\")\n",
    "hessian = mse_exact_diagonal_weight.compute_hessian(dataset, model)\n",
    "print('Diagonal exact Generalized Gauss Netwon, with respect to weight\\n',hessian)\n",
    "\n",
    "\n",
    "# wrt to input\n",
    "mse_exact_diagonal_input = HessianCalculator(wrt = \"input\",\n",
    "                                             loss_func = \"mse\",\n",
    "                                             shape = \"diagonal\",\n",
    "                                             speed = \"half\")\n",
    "hessian = mse_exact_diagonal_input.compute_hessian(dataset, model)\n",
    "print('Diagonal exact Generalized Gauss Netwon, with respect to input\\n',hessian)"
   ]
  },
  {
   "cell_type": "markdown",
   "metadata": {},
   "source": [
    "### Approx diagonal"
   ]
  },
  {
   "cell_type": "code",
   "execution_count": null,
   "metadata": {},
   "outputs": [
    {
     "name": "stdout",
     "output_type": "stream",
     "text": [
      "Diagonal approximated Generalized Gauss Netwon, with respect to weight\n",
      " tensor([3.2199e-03, 5.4905e-03, 3.5651e-03,  ..., 2.4208e-02, 2.4775e+01,\n",
      "        1.8568e+00], grad_fn=<MeanBackward1>)\n",
      "Diagonal approximated Generalized Gauss Netwon, with respect to input\n",
      " tensor([0.0164, 0.0128, 0.0135, 0.0100, 0.0089], grad_fn=<MeanBackward1>)\n"
     ]
    }
   ],
   "source": [
    "# wrt to weight\n",
    "mse_approx_diagonal_weight = HessianCalculator(wrt = \"weight\",\n",
    "                                              loss_func = \"mse\",\n",
    "                                              shape = \"diagonal\",\n",
    "                                              speed = \"fast\")\n",
    "hessian = mse_approx_diagonal_weight.compute_hessian(dataset, model)\n",
    "print('Diagonal approximated Generalized Gauss Netwon, with respect to weight\\n',hessian)\n",
    "\n",
    "\n",
    "# wrt to input\n",
    "mse_approx_diagonal_input = HessianCalculator(wrt = \"input\",\n",
    "                                              loss_func = \"mse\",\n",
    "                                              shape = \"diagonal\",\n",
    "                                              speed = \"fast\")\n",
    "hessian = mse_approx_diagonal_input.compute_hessian(dataset, model)\n",
    "print('Diagonal approximated Generalized Gauss Netwon, with respect to input\\n',hessian)"
   ]
  },
  {
   "cell_type": "markdown",
   "metadata": {},
   "source": [
    "# Contrastive loss"
   ]
  },
  {
   "cell_type": "code",
   "execution_count": null,
   "metadata": {},
   "outputs": [],
   "source": [
    "_batch_size = 20\n",
    "dataset = torch.randn(_batch_size, _input_size)\n",
    "\n",
    "# indexes for constrastive loss\n",
    "ap = [0,1]\n",
    "p = [2,3]\n",
    "an = [4,5,6]\n",
    "n = [7,8,9] \n",
    "tuple_indices = tuple((ap, p, an, n))"
   ]
  },
  {
   "cell_type": "markdown",
   "metadata": {},
   "source": [
    "### Exact Diagonal"
   ]
  },
  {
   "cell_type": "code",
   "execution_count": null,
   "metadata": {},
   "outputs": [
    {
     "name": "stdout",
     "output_type": "stream",
     "text": [
      "Diagonal exact Generalized Gauss Netwon, with respect to weight\n",
      " tensor([ 5.9148e-02,  3.9651e-02,  1.6767e-03,  ..., -3.4360e-01,\n",
      "        -2.5451e+01, -1.6038e+01], grad_fn=<SubBackward0>)\n",
      "Diagonal exact Generalized Gauss Netwon, with respect to input\n",
      " tensor([0.0644, 0.0762, 0.0124, 0.0223, 0.0263], grad_fn=<MeanBackward1>)\n"
     ]
    }
   ],
   "source": [
    "# wrt to weight\n",
    "contrastive_exact_diagonal_weight = HessianCalculator(wrt = \"weight\",\n",
    "                                                      loss_func = \"contrastive\",\n",
    "                                                      shape = \"diagonal\",\n",
    "                                                      speed = \"half\")\n",
    "hessian = contrastive_exact_diagonal_weight.compute_hessian(dataset, model, tuple_indices=tuple_indices)\n",
    "print('Diagonal exact Generalized Gauss Netwon, with respect to weight\\n',hessian)\n",
    "\n",
    "\n",
    "# wrt to input\n",
    "contrastive_exact_diagonal_input = HessianCalculator(wrt = \"input\",\n",
    "                                                     loss_func = \"contrastive\",\n",
    "                                                     shape = \"diagonal\",\n",
    "                                                     speed = \"half\")\n",
    "hessian = contrastive_exact_diagonal_input.compute_hessian(dataset, model, tuple_indices=tuple_indices)\n",
    "print('Diagonal exact Generalized Gauss Netwon, with respect to input\\n',hessian)"
   ]
  },
  {
   "cell_type": "markdown",
   "metadata": {},
   "source": [
    "### Approx diagonal"
   ]
  },
  {
   "cell_type": "code",
   "execution_count": null,
   "metadata": {},
   "outputs": [
    {
     "name": "stdout",
     "output_type": "stream",
     "text": [
      "Diagonal approximated Generalized Gauss Netwon, with respect to weight\n",
      " tensor([-2.6338e-03, -1.6888e-02, -4.0947e-02,  ..., -3.4360e-01,\n",
      "        -2.5451e+01, -1.6038e+01], grad_fn=<SubBackward0>)\n",
      "Diagonal approximated Generalized Gauss Netwon, with respect to input\n",
      " tensor([-0.0384, -0.0512, -0.0033, -0.0304, -0.0149], grad_fn=<SubBackward0>)\n"
     ]
    }
   ],
   "source": [
    "# wrt to weight\n",
    "contrastive_approx_diagonal_weight = HessianCalculator(wrt = \"weight\",\n",
    "                                                       loss_func = \"contrastive\",\n",
    "                                                       shape = \"diagonal\",\n",
    "                                                       speed = \"fast\")\n",
    "hessian = contrastive_approx_diagonal_weight.compute_hessian(dataset, model, tuple_indices=tuple_indices)\n",
    "print('Diagonal approximated Generalized Gauss Netwon, with respect to weight\\n',hessian)\n",
    "\n",
    "\n",
    "# wrt to input\n",
    "contrastive_approx_diagonal_input = HessianCalculator(wrt = \"input\",\n",
    "                                                      loss_func = \"contrastive\",\n",
    "                                                      shape = \"diagonal\",\n",
    "                                                      speed = \"fast\")\n",
    "hessian = contrastive_approx_diagonal_input.compute_hessian(dataset, model, tuple_indices=tuple_indices)\n",
    "print('Diagonal approximated Generalized Gauss Netwon, with respect to input\\n',hessian)"
   ]
  }
 ],
 "metadata": {
  "kernelspec": {
   "display_name": "Python 3.8.12 ('laplace')",
   "language": "python",
   "name": "python3"
  },
  "language_info": {
   "codemirror_mode": {
    "name": "ipython",
    "version": 3
   },
   "file_extension": ".py",
   "mimetype": "text/x-python",
   "name": "python",
   "nbconvert_exporter": "python",
   "pygments_lexer": "ipython3",
   "version": "3.8.12"
  },
  "orig_nbformat": 4,
  "vscode": {
   "interpreter": {
    "hash": "477c387996a084153fd8ef9c4e5432322bdf7a5fc9ad0e2a4c514862f58a6dd5"
   }
  }
 },
 "nbformat": 4,
 "nbformat_minor": 2
}
