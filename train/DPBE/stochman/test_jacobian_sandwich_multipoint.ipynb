{
 "cells": [
  {
   "cell_type": "code",
   "execution_count": 22,
   "metadata": {},
   "outputs": [],
   "source": [
    "import torch\n",
    "from stochman import nnj"
   ]
  },
  {
   "cell_type": "code",
   "execution_count": 23,
   "metadata": {},
   "outputs": [],
   "source": [
    "_batch_size = 2\n",
    "_input_size = 3\n",
    "_hidden_size = 2\n",
    "_output_size = 1\n",
    "\n",
    "input1 = torch.randn(_batch_size, _input_size)\n",
    "input2 = torch.randn(_batch_size, _input_size)"
   ]
  },
  {
   "cell_type": "code",
   "execution_count": 25,
   "metadata": {},
   "outputs": [],
   "source": [
    "model = nnj.Linear(_input_size, _output_size)\n",
    "\n",
    "### test double input ###\n",
    "output = model(input1)\n",
    "output2 = model(input2)\n",
    "\n",
    "tmps = [torch.ones(_batch_size, _output_size) for _ in range(3)]\n",
    "GGN = model._jacobian_sandwich_multipoint(input1, input2, output, output2, tmps, wrt = 'input', diag_inp = True, diag_out = True)\n",
    "GGN = model._jacobian_sandwich_multipoint(input1, input2, output, output2, tmps, wrt = 'input', diag_inp = True, diag_out = False)\n",
    "GGN = model._jacobian_sandwich_multipoint(input1, input2, output, output2, tmps, wrt = 'weight', diag_inp = True, diag_out = True)\n",
    "#GGN = model._jacobian_sandwich_multipoint(input, input2, output, output2, tmps, wrt = 'weight', diag_inp = True, diag_out = False)\n",
    "\n",
    "tmp = torch.ones(_batch_size, _output_size, _output_size)\n",
    "GGN = model._jacobian_sandwich_multipoint(input1, input2, output, output2, tmps, wrt = 'input', diag_inp = True, diag_out = True)\n",
    "GGN = model._jacobian_sandwich_multipoint(input1, input2, output, output2, tmps, wrt = 'input', diag_inp = True, diag_out = False)\n",
    "GGN = model._jacobian_sandwich_multipoint(input1, input2, output, output2, tmps, wrt = 'weight', diag_inp = True, diag_out = True)\n",
    "#GGN = model._jacobian_sandwich_multipoint(input, input2, output, output2, tmps, wrt = 'weight', diag_inp = True, diag_out = False)"
   ]
  },
  {
   "cell_type": "code",
   "execution_count": 26,
   "metadata": {},
   "outputs": [],
   "source": [
    "model = nnj.Tanh()\n",
    "\n",
    "### test double input ###\n",
    "output = model(input1)\n",
    "output2 = model(input2)\n",
    "\n",
    "tmps = [torch.ones(_batch_size, _input_size) for _ in range(3)]\n",
    "GGN = model._jacobian_sandwich_multipoint(input1, input2, output, output2, tmps, wrt = 'input', diag_inp = True, diag_out = True)\n",
    "#GGN = model._jacobian_sandwich_multipoint(input, input2, output, output2, tmps, wrt = 'input', diag_inp = True, diag_out = False)\n",
    "GGN = model._jacobian_sandwich_multipoint(input1, input2, output, output2, tmps, wrt = 'weight', diag_inp = True, diag_out = True)\n",
    "#GGN = model._jacobian_sandwich_multipoint(input, input2, output, output2, tmps, wrt = 'weight', diag_inp = True, diag_out = False)\n",
    "\n",
    "tmp = torch.ones(_batch_size, _input_size, _input_size)\n",
    "GGN = model._jacobian_sandwich_multipoint(input1, input2, output, output2, tmps, wrt = 'input', diag_inp = True, diag_out = True)\n",
    "#GGN = model._jacobian_sandwich_multipoint(input, input2, output, output2, tmps, wrt = 'input', diag_inp = True, diag_out = False)\n",
    "GGN = model._jacobian_sandwich_multipoint(input1, input2, output, output2, tmps, wrt = 'weight', diag_inp = True, diag_out = True)\n",
    "#GGN = model._jacobian_sandwich_multipoint(input, input2, output, output2, tmps, wrt = 'weight', diag_inp = True, diag_out = False)"
   ]
  },
  {
   "cell_type": "code",
   "execution_count": 27,
   "metadata": {},
   "outputs": [],
   "source": [
    "model = nnj.ReLU()\n",
    "\n",
    "### test double input ###\n",
    "output = model(input1)\n",
    "output2 = model(input2)\n",
    "\n",
    "tmps = [torch.ones(_batch_size, _input_size) for _ in range(3)]\n",
    "GGN = model._jacobian_sandwich_multipoint(input1, input2, output, output2, tmps, wrt = 'input', diag_inp = True, diag_out = True)\n",
    "#GGN = model._jacobian_sandwich_multipoint(input, input2, output, output2, tmps, wrt = 'input', diag_inp = True, diag_out = False)\n",
    "GGN = model._jacobian_sandwich_multipoint(input1, input2, output, output2, tmps, wrt = 'weight', diag_inp = True, diag_out = True)\n",
    "#GGN = model._jacobian_sandwich_multipoint(input, input2, output, output2, tmps, wrt = 'weight', diag_inp = True, diag_out = False)\n",
    "\n",
    "tmp = torch.ones(_batch_size, _input_size, _input_size)\n",
    "GGN = model._jacobian_sandwich_multipoint(input1, input2, output, output2, tmps, wrt = 'input', diag_inp = True, diag_out = True)\n",
    "#GGN = model._jacobian_sandwich_multipoint(input, input2, output, output2, tmps, wrt = 'input', diag_inp = True, diag_out = False)\n",
    "GGN = model._jacobian_sandwich_multipoint(input1, input2, output, output2, tmps, wrt = 'weight', diag_inp = True, diag_out = True)\n",
    "#GGN = model._jacobian_sandwich_multipoint(input, input2, output, output2, tmps, wrt = 'weight', diag_inp = True, diag_out = False)"
   ]
  },
  {
   "cell_type": "code",
   "execution_count": 28,
   "metadata": {},
   "outputs": [],
   "source": [
    "model = nnj.L2Norm()\n",
    "\n",
    "### test double input ###\n",
    "output = model(input1)\n",
    "output2 = model(input2)\n",
    "\n",
    "tmps = [torch.ones(_batch_size, _input_size) for _ in range(3)]\n",
    "#GGN = model._jacobian_sandwich_multipoint(input, input2, output, output2, tmps, wrt = 'input', diag_inp = True, diag_out = True)\n",
    "GGN = model._jacobian_sandwich_multipoint(input1, input2, output, output2, tmps, wrt = 'input', diag_inp = True, diag_out = False)\n",
    "GGN = model._jacobian_sandwich_multipoint(input1, input2, output, output2, tmps, wrt = 'weight', diag_inp = True, diag_out = True)\n",
    "GGN = model._jacobian_sandwich_multipoint(input1, input2, output, output2, tmps, wrt = 'weight', diag_inp = True, diag_out = False)\n",
    "\n",
    "tmp = torch.ones(_batch_size, _input_size, _input_size)\n",
    "#GGN = model._jacobian_sandwich_multipoint(input, input2, output, output2, tmps, wrt = 'input', diag_inp = True, diag_out = True)\n",
    "GGN = model._jacobian_sandwich_multipoint(input1, input2, output, output2, tmps, wrt = 'input', diag_inp = True, diag_out = False)\n",
    "GGN = model._jacobian_sandwich_multipoint(input1, input2, output, output2, tmps, wrt = 'weight', diag_inp = True, diag_out = True)\n",
    "GGN = model._jacobian_sandwich_multipoint(input1, input2, output, output2, tmps, wrt = 'weight', diag_inp = True, diag_out = False)"
   ]
  },
  {
   "cell_type": "code",
   "execution_count": 29,
   "metadata": {},
   "outputs": [],
   "source": [
    "layers = [nnj.Linear(_input_size, _hidden_size),\n",
    "          nnj.Tanh(),\n",
    "          nnj.Linear(_hidden_size, _hidden_size),\n",
    "          nnj.ReLU(),\n",
    "          nnj.Linear(_hidden_size, _output_size),\n",
    "          nnj.L2Norm()\n",
    "          ]\n",
    "                        \n",
    "model = nnj.Sequential(layers,\n",
    "                  add_hooks = True\n",
    ")\n",
    "\n",
    "### test double input ###\n",
    "output = model(input1)\n",
    "output2 = model(input2)\n",
    "\n",
    "tmps = [torch.ones(_batch_size, _output_size) for _ in range(3)]\n",
    "GGN = model._jacobian_sandwich_multipoint(input1, input2, tmps, wrt = 'input', diag_inp = True, method = 'diagonal exact')\n",
    "GGN = model._jacobian_sandwich_multipoint(input1, input2, tmps, wrt = 'weight', diag_inp = True, method = 'diagonal exact')\n",
    "\n",
    "tmps = [torch.ones(_batch_size, _output_size, _output_size) for _ in range(3)]\n",
    "GGN = model._jacobian_sandwich_multipoint(input1, input2, tmps, wrt = 'input', diag_inp = False, method = 'diagonal exact')\n",
    "GGN = model._jacobian_sandwich_multipoint(input1, input2, tmps, wrt = 'weight', diag_inp = False, method = 'diagonal exact')"
   ]
  },
  {
   "cell_type": "markdown",
   "metadata": {},
   "source": [
    "# Check correctness"
   ]
  },
  {
   "cell_type": "markdown",
   "metadata": {},
   "source": [
    "Define the same Neural network on Jax"
   ]
  },
  {
   "cell_type": "code",
   "execution_count": 30,
   "metadata": {},
   "outputs": [],
   "source": [
    "stoch_model = nnj.Sequential([\n",
    "                              nnj.Tanh(),\n",
    "                              nnj.Linear(_input_size, _hidden_size),\n",
    "                              nnj.Tanh(),\n",
    "                              #nnj.ReLU(),\n",
    "                              nnj.L2Norm(),\n",
    "                              nnj.Linear(_hidden_size, _output_size),\n",
    "                              #nnj.L2Norm()\n",
    "                              ],\n",
    "                  add_hooks = True\n",
    ")\n",
    "\n",
    "first_linear_layer_index = 1\n",
    "second_linear_layer_index = 4"
   ]
  },
  {
   "cell_type": "code",
   "execution_count": 31,
   "metadata": {},
   "outputs": [],
   "source": [
    "from jax import numpy as jnp\n",
    "import numpy as np\n",
    "\n",
    "def Relu(x):\n",
    "    return jnp.maximum(x, jnp.zeros_like(x)) # max(0,x)\n",
    "\n",
    "def Tanh(x):\n",
    "    return jnp.tanh(x)\n",
    "\n",
    "def L2Norm(x):\n",
    "    x = x.T / (jnp.linalg.norm(x, ord=2, axis=1) + 1e-6)\n",
    "    return x.T\n",
    "\n",
    "def LinearLayer(w, b, x, print_weights=False):\n",
    "    w = w.reshape(len(b), -1)\n",
    "    out = jnp.dot(x, w.T) + b\n",
    "    if print_weights:\n",
    "        print('\\twi\\n\\t',w)\n",
    "        print('\\tbi\\n\\t',b)\n",
    "    return out\n",
    "\n",
    "def jax_model(weights, x, print_weights=False):\n",
    "    x = Tanh(x)\n",
    "    w1 = weights[ : _input_size*_hidden_size]\n",
    "    b1 = weights[_input_size*_hidden_size : _input_size*_hidden_size + _hidden_size]\n",
    "    x = LinearLayer(w1, b1, x, print_weights=print_weights)\n",
    "    x = Tanh(x)\n",
    "    #x = Relu(x)\n",
    "    x = L2Norm(x)\n",
    "    w2 = weights[_input_size*_hidden_size + _hidden_size : _input_size*_hidden_size + _hidden_size + _hidden_size*_output_size]\n",
    "    b2 = weights[_input_size*_hidden_size + _hidden_size + _hidden_size*_output_size : ]\n",
    "    x = LinearLayer(w2, b2, x, print_weights=print_weights)\n",
    "    #x = L2Norm(x)\n",
    "    return x\n",
    "\n",
    "_weights_size = _input_size*_hidden_size + _hidden_size + _hidden_size*_output_size + _output_size\n",
    "        "
   ]
  },
  {
   "cell_type": "code",
   "execution_count": 32,
   "metadata": {},
   "outputs": [
    {
     "name": "stdout",
     "output_type": "stream",
     "text": [
      "Input1: tensor([[ 0.4592,  1.7532,  1.2572],\n",
      "        [-0.2399, -0.1848,  0.6182]])\n",
      "Input2: tensor([[-0.5009, -1.4418, -0.5515],\n",
      "        [-0.2437, -2.9064,  1.1754]])\n",
      "Weights in stoch model:\n",
      "\tw1\n",
      "\t [[-0.26317582 -0.35932797 -0.520204  ]\n",
      " [-0.56792915  0.4255187   0.48647   ]]\n",
      "\tb1\n",
      "\t [-0.1295054  -0.49002025]\n",
      "\tw2\n",
      "\t [[ 0.50896794 -0.25101432]]\n",
      "\tb2\n",
      "\t [0.6121177]\n",
      "Output1: \n",
      " [[0.07989365]\n",
      " [0.3009029 ]]\n",
      "Output2: \n",
      " [[1.1182475]\n",
      " [0.6633612]]\n",
      "0.0 1.1920929e-07\n",
      "\n",
      "\n",
      "Outputs of stock and jax models are the same!\n"
     ]
    }
   ],
   "source": [
    "stoch_input1 = torch.randn(_batch_size, _input_size)\n",
    "stoch_input2 = torch.randn(_batch_size, _input_size)\n",
    "print('Input1:',stoch_input1)\n",
    "print('Input2:',stoch_input2)\n",
    "stoch_output1 = stoch_model.forward(stoch_input1)\n",
    "stoch_output2 = stoch_model.forward(stoch_input2)\n",
    "\n",
    "# set weights and input to be equal\n",
    "print('Weights in stoch model:')\n",
    "print('\\tw1\\n\\t',stoch_model._modules_list[first_linear_layer_index].weight.detach().numpy())\n",
    "print('\\tb1\\n\\t',stoch_model._modules_list[first_linear_layer_index].bias.detach().numpy())\n",
    "print('\\tw2\\n\\t',stoch_model._modules_list[second_linear_layer_index].weight.detach().numpy())\n",
    "print('\\tb2\\n\\t',stoch_model._modules_list[second_linear_layer_index].bias.detach().numpy())\n",
    "\n",
    "\n",
    "weights = []\n",
    "for row in stoch_model._modules_list[first_linear_layer_index].weight.detach().numpy():\n",
    "    weights = np.concatenate((weights, row))\n",
    "weights= np.concatenate((weights, stoch_model._modules_list[first_linear_layer_index].bias.detach().numpy()))\n",
    "for row in stoch_model._modules_list[second_linear_layer_index].weight.detach().numpy():\n",
    "    weights = np.concatenate((weights, row))\n",
    "weights = np.concatenate((weights, stoch_model._modules_list[second_linear_layer_index].bias.detach().numpy()))\n",
    "weights = jnp.array(weights)\n",
    "#print(_weights_size, len(weights))\n",
    "\n",
    "\n",
    "jax_input1 = jnp.array(stoch_input1.numpy())\n",
    "jax_input2 = jnp.array(stoch_input2.numpy())\n",
    "#print('Weights in jax model:')\n",
    "jax_output1 = jax_model(weights, jax_input1, print_weights=False)\n",
    "jax_output2 = jax_model(weights, jax_input2, print_weights=False)\n",
    "\n",
    "\n",
    "\n",
    "print('Output1: \\n', jax_output1)\n",
    "print('Output2: \\n', jax_output2)\n",
    "#print('norms \\n',jnp.linalg.norm(jax_output, ord=2, axis=1))\n",
    "\n",
    "#print(np.array(jax_output) - stoch_output.detach().numpy())\n",
    "#print(np.array(jax_output) == stoch_output.detach().numpy())\n",
    "difference1 = np.array(jax_output1) - stoch_output1.detach().numpy()\n",
    "difference2 = np.array(jax_output2) - stoch_output2.detach().numpy()\n",
    "print(np.max(abs(difference1)), np.max(abs(difference2)))\n",
    "assert (abs(difference1) < 1e-6).all() and (abs(difference2) < 1e-6).all()\n",
    "print('\\n\\nOutputs of stock and jax models are the same!')"
   ]
  },
  {
   "cell_type": "markdown",
   "metadata": {},
   "source": [
    "# Check wrt the weights"
   ]
  },
  {
   "cell_type": "markdown",
   "metadata": {},
   "source": [
    "Check vector-jacobian product"
   ]
  },
  {
   "cell_type": "code",
   "execution_count": 33,
   "metadata": {},
   "outputs": [
    {
     "name": "stdout",
     "output_type": "stream",
     "text": [
      "[[-0.00457794 -0.01003927 -0.00906444 -0.10780229 -0.2364071  -0.2134516\n",
      "  -0.01066033 -0.25103188 -0.9946227   0.10355183  1.        ]] [[-0.00457778 -0.01003893 -0.00906414 -0.10780233 -0.23640716 -0.21345164\n",
      "  -0.01065997 -0.25103194 -0.9946227   0.10355193  1.        ]\n",
      " [ 0.          0.          0.          0.          0.          0.\n",
      "   0.          0.         -0.         -0.          0.        ]]\n",
      "Max difference 1.0 at index 21\n"
     ]
    },
    {
     "ename": "AssertionError",
     "evalue": "",
     "output_type": "error",
     "traceback": [
      "\u001b[0;31m---------------------------------------------------------------------------\u001b[0m",
      "\u001b[0;31mAssertionError\u001b[0m                            Traceback (most recent call last)",
      "\u001b[0;32m/tmp/ipykernel_212463/2164522653.py\u001b[0m in \u001b[0;36m<module>\u001b[0;34m\u001b[0m\n\u001b[1;32m     20\u001b[0m         \u001b[0mprint\u001b[0m\u001b[0;34m(\u001b[0m\u001b[0mnp\u001b[0m\u001b[0;34m.\u001b[0m\u001b[0marray\u001b[0m\u001b[0;34m(\u001b[0m\u001b[0mv_i_jax\u001b[0m\u001b[0;34m)\u001b[0m\u001b[0;34m,\u001b[0m \u001b[0mv_i_stoch\u001b[0m\u001b[0;34m.\u001b[0m\u001b[0mdetach\u001b[0m\u001b[0;34m(\u001b[0m\u001b[0;34m)\u001b[0m\u001b[0;34m.\u001b[0m\u001b[0mnumpy\u001b[0m\u001b[0;34m(\u001b[0m\u001b[0;34m)\u001b[0m\u001b[0;34m)\u001b[0m\u001b[0;34m\u001b[0m\u001b[0;34m\u001b[0m\u001b[0m\n\u001b[1;32m     21\u001b[0m         \u001b[0mprint\u001b[0m\u001b[0;34m(\u001b[0m\u001b[0;34m'Max difference'\u001b[0m\u001b[0;34m,\u001b[0m\u001b[0mnp\u001b[0m\u001b[0;34m.\u001b[0m\u001b[0mmax\u001b[0m\u001b[0;34m(\u001b[0m\u001b[0mabs\u001b[0m\u001b[0;34m(\u001b[0m\u001b[0mdifference\u001b[0m\u001b[0;34m)\u001b[0m\u001b[0;34m)\u001b[0m\u001b[0;34m,\u001b[0m \u001b[0;34m'at index'\u001b[0m\u001b[0;34m,\u001b[0m \u001b[0mnp\u001b[0m\u001b[0;34m.\u001b[0m\u001b[0margmax\u001b[0m\u001b[0;34m(\u001b[0m\u001b[0mabs\u001b[0m\u001b[0;34m(\u001b[0m\u001b[0mdifference\u001b[0m\u001b[0;34m)\u001b[0m\u001b[0;34m)\u001b[0m\u001b[0;34m)\u001b[0m\u001b[0;34m\u001b[0m\u001b[0;34m\u001b[0m\u001b[0m\n\u001b[0;32m---> 22\u001b[0;31m         \u001b[0;32massert\u001b[0m \u001b[0;34m(\u001b[0m\u001b[0mabs\u001b[0m\u001b[0;34m(\u001b[0m\u001b[0mdifference\u001b[0m\u001b[0;34m)\u001b[0m \u001b[0;34m<\u001b[0m \u001b[0;36m1e-5\u001b[0m\u001b[0;34m)\u001b[0m\u001b[0;34m.\u001b[0m\u001b[0mall\u001b[0m\u001b[0;34m(\u001b[0m\u001b[0;34m)\u001b[0m\u001b[0;34m\u001b[0m\u001b[0;34m\u001b[0m\u001b[0m\n\u001b[0m\u001b[1;32m     23\u001b[0m \u001b[0;34m\u001b[0m\u001b[0m\n\u001b[1;32m     24\u001b[0m \u001b[0mprint\u001b[0m\u001b[0;34m(\u001b[0m\u001b[0;34m'\\n\\nVector-Jacobian products are the same for every base elements!'\u001b[0m\u001b[0;34m)\u001b[0m\u001b[0;34m\u001b[0m\u001b[0;34m\u001b[0m\u001b[0m\n",
      "\u001b[0;31mAssertionError\u001b[0m: "
     ]
    }
   ],
   "source": [
    "from jax import vjp\n",
    "\n",
    "jax_output_by_vjp1, vjp_fun1 = vjp(lambda w: jax_model(w, jax_input1), weights)\n",
    "jax_output_by_vjp2, vjp_fun2 = vjp(lambda w: jax_model(w, jax_input2), weights)\n",
    "# check if I'm actually understanding what jax.vjp is doing\n",
    "assert (jax_output1 == jax_output_by_vjp1).all()\n",
    "assert (jax_output2 == jax_output_by_vjp2).all()\n",
    "\n",
    "for i in range(_output_size):\n",
    "    for vjp_fun,stoch_input in [(vjp_fun1, stoch_input1), (vjp_fun2, stoch_input2)]:\n",
    "        e_i = jnp.zeros((_batch_size, _output_size))\n",
    "        e_i = e_i.at[0,i].set(1)\n",
    "        v_i_jax = vjp_fun(e_i)\n",
    "\n",
    "        e_i = torch.zeros((_batch_size, _output_size))\n",
    "        e_i[0,i] = 1\n",
    "        v_i_stoch = stoch_model._vjp(e_i, stoch_input, wrt='weight')\n",
    "\n",
    "        difference = np.array(v_i_jax) - v_i_stoch.detach().numpy()\n",
    "        print(np.array(v_i_jax), v_i_stoch.detach().numpy())\n",
    "        print('Max difference',np.max(abs(difference)), 'at index', np.argmax(abs(difference)))\n",
    "        assert (abs(difference) < 1e-5).all()\n",
    "\n",
    "print('\\n\\nVector-Jacobian products are the same for every base elements!')"
   ]
  },
  {
   "cell_type": "markdown",
   "metadata": {},
   "source": [
    "Check sandwich product"
   ]
  },
  {
   "cell_type": "code",
   "execution_count": null,
   "metadata": {},
   "outputs": [
    {
     "name": "stdout",
     "output_type": "stream",
     "text": [
      "(11, 11)\n",
      "(11,)\n"
     ]
    }
   ],
   "source": [
    "# tmp is the identity matrix, for each batch element\n",
    "identity = []\n",
    "for i in range(_output_size):\n",
    "    e_i = jnp.zeros((_batch_size, _output_size))\n",
    "    for b in range(_batch_size):\n",
    "        e_i = e_i.at[b,i].set(1)\n",
    "    identity.append(e_i)\n",
    "\n",
    "rows_of_J1_by_jax = []\n",
    "rows_of_J2_by_jax = []\n",
    "for vjp_fun,rows_of_J_by_jax in [(vjp_fun1, rows_of_J1_by_jax), (vjp_fun2, rows_of_J2_by_jax)]:\n",
    "    for e_i in identity:\n",
    "        v_i = vjp_fun(e_i)\n",
    "        rows_of_J_by_jax.append(v_i[0])\n",
    "    rows_of_J_by_jax = np.array(rows_of_J_by_jax)\n",
    "\n",
    "JJ11_by_jax = jnp.einsum(\"ji,jk->ik\", rows_of_J1_by_jax, rows_of_J1_by_jax)\n",
    "JJ12_by_jax = jnp.einsum(\"ji,jk->ik\", rows_of_J1_by_jax, rows_of_J2_by_jax)\n",
    "JJ22_by_jax = jnp.einsum(\"ji,jk->ik\", rows_of_J2_by_jax, rows_of_J2_by_jax)\n",
    "GGN_by_jax = JJ11_by_jax + JJ22_by_jax - JJ12_by_jax - JJ12_by_jax.T\n",
    "print(GGN_by_jax.shape)\n",
    "\n",
    "GGN_diagonal_by_jax = []\n",
    "for w in range(_weights_size):\n",
    "    GGN_diagonal_by_jax.append(GGN_by_jax[w][w])\n",
    "GGN_diagonal_by_jax = jnp.array(GGN_diagonal_by_jax)\n",
    "print(GGN_diagonal_by_jax.shape)\n"
   ]
  },
  {
   "cell_type": "markdown",
   "metadata": {},
   "source": [
    "Do the same with stoch"
   ]
  },
  {
   "cell_type": "code",
   "execution_count": null,
   "metadata": {},
   "outputs": [
    {
     "name": "stdout",
     "output_type": "stream",
     "text": [
      "(11, 11)\n",
      "(11,)\n"
     ]
    }
   ],
   "source": [
    "# tmp is the identity matrix, for each batch element\n",
    "identity = []\n",
    "for i in range(_output_size):\n",
    "    e_i = torch.zeros((_batch_size, _output_size))\n",
    "    for b in range(_batch_size):\n",
    "        e_i[b,i] = 1\n",
    "    identity.append(e_i)\n",
    "\n",
    "rows_of_J1_by_stoch = []\n",
    "rows_of_J2_by_stoch = []\n",
    "for stoch_input,rows_of_J_by_stoch in [(stoch_input1, rows_of_J1_by_stoch), (stoch_input2, rows_of_J2_by_stoch)]:\n",
    "    for e_i in identity:\n",
    "        v_i_stoch = stoch_model._vjp(e_i, stoch_input, wrt='weight')\n",
    "        rows_of_J_by_stoch.append(v_i_stoch.detach().numpy()[0])\n",
    "    rows_of_J_by_stoch = np.array(rows_of_J_by_stoch)\n",
    "\n",
    "JJ11_by_stoch = np.einsum(\"ji,jk->ik\", rows_of_J1_by_stoch, rows_of_J1_by_stoch)\n",
    "JJ12_by_stoch = np.einsum(\"ji,jk->ik\", rows_of_J1_by_stoch, rows_of_J2_by_stoch)\n",
    "JJ22_by_stoch = np.einsum(\"ji,jk->ik\", rows_of_J2_by_stoch, rows_of_J2_by_stoch)\n",
    "GGN_by_stoch_slow = JJ11_by_stoch + JJ22_by_stoch - JJ12_by_stoch - JJ12_by_stoch.T\n",
    "print(GGN_by_stoch_slow.shape)\n",
    "\n",
    "GGN_diagonal_by_stoch_slow = []\n",
    "for w in range(_weights_size):\n",
    "    GGN_diagonal_by_stoch_slow.append(GGN_by_stoch_slow[w][w])\n",
    "GGN_diagonal_by_stoch_slow = jnp.array(GGN_diagonal_by_stoch_slow)\n",
    "print(GGN_diagonal_by_stoch_slow.shape)\n"
   ]
  },
  {
   "cell_type": "code",
   "execution_count": null,
   "metadata": {},
   "outputs": [
    {
     "name": "stdout",
     "output_type": "stream",
     "text": [
      "5.9604645e-08 at 9\n",
      "Jacobians computed by row are the same\n"
     ]
    }
   ],
   "source": [
    "difference = rows_of_J_by_jax - rows_of_J_by_stoch\n",
    "print(np.max(abs(difference)), 'at', np.argmax(abs(difference)))\n",
    "\n",
    "assert np.max(abs(difference)) < 1e-5\n",
    "print('Jacobians computed by row are the same')"
   ]
  },
  {
   "cell_type": "code",
   "execution_count": null,
   "metadata": {},
   "outputs": [
    {
     "name": "stdout",
     "output_type": "stream",
     "text": [
      "1.1920929e-07 at 108\n",
      "Generalized Gauss Netowns (computed by row) are the same\n"
     ]
    }
   ],
   "source": [
    "difference = GGN_by_jax - GGN_by_stoch_slow\n",
    "print(np.max(abs(difference)), 'at', np.argmax(abs(difference)))\n",
    "\n",
    "assert np.max(abs(difference)) < 1e-5\n",
    "print('Generalized Gauss Netowns (computed by row) are the same')"
   ]
  },
  {
   "cell_type": "code",
   "execution_count": null,
   "metadata": {},
   "outputs": [
    {
     "name": "stdout",
     "output_type": "stream",
     "text": [
      "How much non symmetric is the cross term -> 0.31406224\n"
     ]
    }
   ],
   "source": [
    "difference = JJ12_by_stoch - JJ12_by_stoch.T\n",
    "print('How much non symmetric is the cross term ->', np.max(abs(difference)))"
   ]
  },
  {
   "cell_type": "code",
   "execution_count": null,
   "metadata": {},
   "outputs": [],
   "source": [
    "identity_diagonals = tuple(torch.ones(_batch_size, _output_size) for _ in range(3))\n",
    "GGN_diagonal_by_stoch = stoch_model._jacobian_sandwich_multipoint(stoch_input1,\n",
    "                                                                  stoch_input2,\n",
    "                                                                  identity_diagonals, \n",
    "                                                                  wrt = 'weight', \n",
    "                                                                  diag_inp = True, \n",
    "                                                                  method = 'diagonal exact')\n",
    "\n",
    "identities = tuple(torch.zeros(_batch_size, _output_size, _output_size) for _ in range(3))\n",
    "for s in range(3):\n",
    "    for i in range(_output_size):\n",
    "        for b in range(_batch_size):\n",
    "            identities[s][b][i][i] = 1\n",
    "GGN_diagonal_by_stoch2 = stoch_model._jacobian_sandwich_multipoint(stoch_input1,\n",
    "                                                                   stoch_input2,\n",
    "                                                                   identities, \n",
    "                                                                   wrt = 'weight', \n",
    "                                                                   diag_inp = False, \n",
    "                                                                   method = 'diagonal exact')"
   ]
  },
  {
   "cell_type": "code",
   "execution_count": null,
   "metadata": {},
   "outputs": [
    {
     "name": "stdout",
     "output_type": "stream",
     "text": [
      "stock\n",
      " [0.00260411 0.0219567  0.06252824 0.00067645 0.00070043 0.04717448\n",
      " 0.0289547  0.00203911 0.05857497 0.04262051 0.        ]\n",
      "stoch slow\n",
      " [0.00260411 0.0219567  0.06252824 0.00067645 0.00070043 0.04717447\n",
      " 0.02895471 0.00203911 0.05857497 0.04262054 0.        ]\n",
      "jax\n",
      " [0.00260411 0.02195673 0.06252827 0.00067646 0.00070043 0.04717442\n",
      " 0.02895473 0.00203912 0.05857497 0.04262042 0.        ]\n",
      "diff\n",
      " [-3.2596290e-09 -2.6077032e-08 -2.9802322e-08 -3.7252903e-09\n",
      " -3.7252903e-09  5.5879354e-08 -2.9802322e-08 -1.3038516e-08\n",
      "  0.0000000e+00  8.9406967e-08  0.0000000e+00]\n"
     ]
    }
   ],
   "source": [
    "print('stock\\n',np.array(GGN_diagonal_by_stoch[0].detach()))\n",
    "print('stoch slow\\n',GGN_diagonal_by_stoch_slow)\n",
    "print('jax\\n',np.array(GGN_diagonal_by_jax))\n",
    "print('diff\\n',np.array(GGN_diagonal_by_stoch[0].detach()) - np.array(GGN_diagonal_by_jax))"
   ]
  },
  {
   "cell_type": "code",
   "execution_count": null,
   "metadata": {},
   "outputs": [
    {
     "name": "stdout",
     "output_type": "stream",
     "text": [
      "8.940697e-08\n",
      "Generalized Gauss Newtown are the same\n"
     ]
    }
   ],
   "source": [
    "difference = np.array(GGN_diagonal_by_stoch[0].detach()) - np.array(GGN_diagonal_by_jax)\n",
    "print(np.max(abs(difference)))\n",
    "\n",
    "assert np.max(abs(difference)) < 1e-5\n",
    "print('Generalized Gauss Newtown are the same')"
   ]
  },
  {
   "cell_type": "markdown",
   "metadata": {},
   "source": [
    "# Check wrt the input"
   ]
  },
  {
   "cell_type": "markdown",
   "metadata": {},
   "source": [
    "Check vector-jacobian product"
   ]
  },
  {
   "cell_type": "code",
   "execution_count": null,
   "metadata": {},
   "outputs": [
    {
     "ename": "NameError",
     "evalue": "name 'jax_input' is not defined",
     "output_type": "error",
     "traceback": [
      "\u001b[0;31m---------------------------------------------------------------------------\u001b[0m",
      "\u001b[0;31mNameError\u001b[0m                                 Traceback (most recent call last)",
      "\u001b[0;32m/tmp/ipykernel_212463/2193307646.py\u001b[0m in \u001b[0;36m<module>\u001b[0;34m\u001b[0m\n\u001b[0;32m----> 1\u001b[0;31m \u001b[0mjax_output_by_vjp\u001b[0m\u001b[0;34m,\u001b[0m \u001b[0mvjp_fun\u001b[0m \u001b[0;34m=\u001b[0m \u001b[0mvjp\u001b[0m\u001b[0;34m(\u001b[0m\u001b[0;32mlambda\u001b[0m \u001b[0minp\u001b[0m\u001b[0;34m:\u001b[0m \u001b[0mjax_model\u001b[0m\u001b[0;34m(\u001b[0m\u001b[0mweights\u001b[0m\u001b[0;34m,\u001b[0m \u001b[0minp\u001b[0m\u001b[0;34m)\u001b[0m\u001b[0;34m,\u001b[0m \u001b[0mjax_input\u001b[0m\u001b[0;34m)\u001b[0m\u001b[0;34m\u001b[0m\u001b[0;34m\u001b[0m\u001b[0m\n\u001b[0m\u001b[1;32m      2\u001b[0m \u001b[0;31m# check if the outputs are the same\u001b[0m\u001b[0;34m\u001b[0m\u001b[0;34m\u001b[0m\u001b[0;34m\u001b[0m\u001b[0m\n\u001b[1;32m      3\u001b[0m \u001b[0;32massert\u001b[0m \u001b[0;34m(\u001b[0m\u001b[0mjax_output\u001b[0m \u001b[0;34m==\u001b[0m \u001b[0mjax_output_by_vjp\u001b[0m\u001b[0;34m)\u001b[0m\u001b[0;34m.\u001b[0m\u001b[0mall\u001b[0m\u001b[0;34m(\u001b[0m\u001b[0;34m)\u001b[0m\u001b[0;34m\u001b[0m\u001b[0;34m\u001b[0m\u001b[0m\n\u001b[1;32m      4\u001b[0m \u001b[0;34m\u001b[0m\u001b[0m\n\u001b[1;32m      5\u001b[0m \u001b[0;34m\u001b[0m\u001b[0m\n",
      "\u001b[0;31mNameError\u001b[0m: name 'jax_input' is not defined"
     ]
    }
   ],
   "source": [
    "jax_output_by_vjp, vjp_fun = vjp(lambda inp: jax_model(weights, inp), jax_input)\n",
    "# check if the outputs are the same\n",
    "assert (jax_output == jax_output_by_vjp).all()\n",
    "\n",
    "\n",
    "e_0 = jnp.zeros((_batch_size, _output_size))\n",
    "e_0 = e_0.at[0,0].set(1)\n",
    "v_0_jax = vjp_fun(e_0)\n",
    "\n",
    "e_0 = torch.zeros((_batch_size, _output_size))\n",
    "e_0[0,0] = 1\n",
    "v_0_stoch = stoch_model._vjp(e_0, stoch_input, wrt='input')\n",
    "\n",
    "print(e_0)\n",
    "print('jax\\t',np.array(v_0_jax))\n",
    "print('stoch\\t',v_0_stoch.detach().numpy())\n",
    "\n",
    "for i in range(_output_size):\n",
    "    e_i = jnp.zeros((_batch_size, _output_size))\n",
    "    e_i = e_i.at[0,i].set(1)\n",
    "    v_i_jax = vjp_fun(e_i)\n",
    "\n",
    "    e_i = torch.zeros((_batch_size, _output_size))\n",
    "    e_i[0,i] = 1\n",
    "    v_i_stoch = stoch_model._vjp(e_i, stoch_input, wrt='input')\n",
    "\n",
    "    #print(np.array(v_i_jax) - v_i_stoch.detach().numpy())\n",
    "    assert (np.array(v_i_jax) - v_i_stoch.detach().numpy() < 1e-5).all()"
   ]
  },
  {
   "cell_type": "markdown",
   "metadata": {},
   "source": [
    "Check sandwich product"
   ]
  },
  {
   "cell_type": "code",
   "execution_count": null,
   "metadata": {},
   "outputs": [
    {
     "name": "stdout",
     "output_type": "stream",
     "text": [
      "1 (1, 4)\n",
      "(2, 4)\n",
      "(4, 4)\n"
     ]
    }
   ],
   "source": [
    "# tmp is the identity matrix, for each batch element\n",
    "identity = []\n",
    "for i in range(_output_size):\n",
    "    e_i = jnp.zeros((_batch_size, _output_size))\n",
    "    for b in range(_batch_size):\n",
    "        e_i = e_i.at[b,i].set(1)\n",
    "    identity.append(e_i)\n",
    "\n",
    "rows_of_J_by_jax = []\n",
    "for row in identity:\n",
    "    v_i = vjp_fun(row)\n",
    "    rows_of_J_by_jax.append(v_i[0][0])\n",
    "print(len(v_i), v_i[0].shape)\n",
    "\n",
    "rows_of_J_by_jax = np.array(rows_of_J_by_jax)\n",
    "print(rows_of_J_by_jax.shape)\n",
    "\n",
    "GGN_by_jax = np.einsum(\"ji,jk->ik\", rows_of_J_by_jax, rows_of_J_by_jax)\n",
    "print(GGN_by_jax.shape)"
   ]
  },
  {
   "cell_type": "markdown",
   "metadata": {},
   "source": [
    "Do the same with stoch"
   ]
  },
  {
   "cell_type": "code",
   "execution_count": null,
   "metadata": {},
   "outputs": [
    {
     "name": "stdout",
     "output_type": "stream",
     "text": [
      "1 torch.Size([4])\n",
      "(2, 4)\n",
      "(4, 4)\n"
     ]
    }
   ],
   "source": [
    "# tmp is the identity matrix, for each batch element\n",
    "identity = []\n",
    "for i in range(_output_size):\n",
    "    e_i = torch.zeros((_batch_size, _output_size))\n",
    "    for b in range(_batch_size):\n",
    "        e_i[b,i] = 1\n",
    "    identity.append(e_i)\n",
    "\n",
    "rows_of_J_by_stoch = []\n",
    "for e_i in identity:\n",
    "    v_i_stoch = stoch_model._vjp(e_i, stoch_input, wrt='input')\n",
    "    rows_of_J_by_stoch.append(v_i_stoch.detach().numpy()[0])\n",
    "print(len(v_i_stoch), v_i_stoch[0].shape)\n",
    "\n",
    "rows_of_J_by_stoch = np.array(rows_of_J_by_stoch)\n",
    "print(rows_of_J_by_stoch.shape)\n",
    "\n",
    "GGN_by_stoch_slow = np.einsum(\"ji,jk->ik\", rows_of_J_by_stoch, rows_of_J_by_stoch)\n",
    "print(GGN_by_stoch_slow.shape)"
   ]
  },
  {
   "cell_type": "code",
   "execution_count": null,
   "metadata": {},
   "outputs": [
    {
     "name": "stdout",
     "output_type": "stream",
     "text": [
      "5.364418e-07 at 1\n",
      "Jacobians computed by row are the same\n"
     ]
    }
   ],
   "source": [
    "difference = rows_of_J_by_jax - rows_of_J_by_stoch\n",
    "print(np.max(abs(difference)), 'at', np.argmax(abs(difference)))\n",
    "\n",
    "assert np.max(abs(difference)) < 1e-5\n",
    "print('Jacobians computed by row are the same')"
   ]
  },
  {
   "cell_type": "code",
   "execution_count": null,
   "metadata": {},
   "outputs": [
    {
     "name": "stdout",
     "output_type": "stream",
     "text": [
      "2.6775524e-08 at 5\n",
      "Generalized Gauss Netowns (computed by row) are the same\n"
     ]
    }
   ],
   "source": [
    "difference = GGN_by_jax - GGN_by_stoch_slow\n",
    "print(np.max(abs(difference)), 'at', np.argmax(abs(difference)))\n",
    "\n",
    "assert np.max(abs(difference)) < 1e-5\n",
    "print('Generalized Gauss Netowns (computed by row) are the same')"
   ]
  },
  {
   "cell_type": "code",
   "execution_count": null,
   "metadata": {},
   "outputs": [],
   "source": [
    "identity_diagonal = torch.ones(_batch_size, _output_size)\n",
    "GGN_by_stoch = stoch_model._jacobian_sandwich(stoch_input,\n",
    "                                            identity_diagonal, \n",
    "                                            wrt = 'input', \n",
    "                                            diag_inp = True, \n",
    "                                            method = 'diagonal exact')"
   ]
  },
  {
   "cell_type": "code",
   "execution_count": null,
   "metadata": {},
   "outputs": [
    {
     "name": "stdout",
     "output_type": "stream",
     "text": [
      "stoch\n",
      " [[ 0.03766713 -0.01087428  0.01152801 -0.00608769]\n",
      " [-0.01087428  0.00375755 -0.00417262  0.00174075]\n",
      " [ 0.01152801 -0.00417262  0.0046819  -0.00184027]\n",
      " [-0.00608769  0.00174075 -0.00184027  0.00098433]]\n",
      "stoch slow \n",
      " [[ 0.03766714 -0.01087427  0.011528   -0.00608769]\n",
      " [-0.01087427  0.00375755 -0.00417262  0.00174075]\n",
      " [ 0.011528   -0.00417262  0.0046819  -0.00184027]\n",
      " [-0.00608769  0.00174075 -0.00184027  0.00098433]]\n",
      "jax\n",
      " [[ 0.03766712 -0.01087426  0.01152799 -0.00608768]\n",
      " [-0.01087426  0.00375752 -0.0041726   0.00174074]\n",
      " [ 0.01152799 -0.0041726   0.00468189 -0.00184027]\n",
      " [-0.00608768  0.00174074 -0.00184027  0.00098433]]\n",
      "diff\n",
      " [[ 1.49011612e-08 -1.30385160e-08  1.86264515e-08 -1.21071935e-08]\n",
      " [-1.21071935e-08  3.09664756e-08 -2.37487257e-08  2.79396772e-09]\n",
      " [ 1.86264515e-08 -2.65426934e-08  1.25728548e-08 -4.07453626e-09]\n",
      " [-1.21071935e-08  3.37604433e-09 -4.07453626e-09  3.25962901e-09]]\n",
      "diff\n",
      " [[ True  True  True  True]\n",
      " [ True  True  True  True]\n",
      " [ True  True  True  True]\n",
      " [ True  True  True  True]]\n"
     ]
    }
   ],
   "source": [
    "print('stoch\\n',np.array(GGN_by_stoch[0].detach()))\n",
    "print('stoch slow \\n',np.array(GGN_by_stoch_slow))\n",
    "print('jax\\n',np.array(GGN_by_jax))\n",
    "print('diff\\n',np.array(GGN_by_stoch[0].detach()) - np.array(GGN_by_jax))\n",
    "\n",
    "#print('diff\\n',np.array(GGN_by_stoch[0].detach()) == np.array(GGN_by_jax))\n",
    "print('diff\\n',abs(np.array(GGN_by_stoch[0].detach()) - np.array(GGN_by_jax)) < 1e-6)\n",
    "\n",
    "\n",
    "#print('ratio\\n',np.array(GGN_by_stoch[0].detach()) / np.array(GGN_by_jax))"
   ]
  },
  {
   "cell_type": "code",
   "execution_count": null,
   "metadata": {},
   "outputs": [],
   "source": []
  }
 ],
 "metadata": {
  "kernelspec": {
   "display_name": "Python 3.8.12 ('laplace')",
   "language": "python",
   "name": "python3"
  },
  "language_info": {
   "codemirror_mode": {
    "name": "ipython",
    "version": 3
   },
   "file_extension": ".py",
   "mimetype": "text/x-python",
   "name": "python",
   "nbconvert_exporter": "python",
   "pygments_lexer": "ipython3",
   "version": "3.8.12"
  },
  "orig_nbformat": 4,
  "vscode": {
   "interpreter": {
    "hash": "477c387996a084153fd8ef9c4e5432322bdf7a5fc9ad0e2a4c514862f58a6dd5"
   }
  }
 },
 "nbformat": 4,
 "nbformat_minor": 2
}
